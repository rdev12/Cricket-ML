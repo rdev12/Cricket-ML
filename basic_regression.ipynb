{
 "metadata": {
  "language_info": {
   "codemirror_mode": {
    "name": "ipython",
    "version": 3
   },
   "file_extension": ".py",
   "mimetype": "text/x-python",
   "name": "python",
   "nbconvert_exporter": "python",
   "pygments_lexer": "ipython3",
   "version": "3.9.4"
  },
  "orig_nbformat": 2,
  "kernelspec": {
   "name": "python394jvsc74a57bd04e1d2c650942a91b325b54b9274b36bdc9d492044a75ef951a73a8c46dea3f56",
   "display_name": "Python 3.9.4 64-bit"
  }
 },
 "nbformat": 4,
 "nbformat_minor": 2,
 "cells": [
  {
   "cell_type": "code",
   "execution_count": 170,
   "metadata": {},
   "outputs": [],
   "source": [
    "import numpy as np\n",
    "import pandas as pd\n",
    "from imutils import paths\n",
    "import seaborn as sns\n",
    "import matplotlib.pyplot as plt\n",
    "from sklearn.model_selection import train_test_split\n",
    "from sklearn import model_selection\n",
    "import random"
   ]
  },
  {
   "cell_type": "code",
   "execution_count": 82,
   "metadata": {},
   "outputs": [],
   "source": [
    "dataPaths = list(paths.list_files('.\\ipl_csv2'))\n",
    "\n",
    "dataPaths.pop(len(dataPaths) - 2)\n",
    "dataPaths.pop(len(dataPaths) - 1)\n",
    "\n",
    "def match_history(p_team, opp_team, num):\n",
    "    req_df = []\n",
    "    \n",
    "    for match_file in dataPaths:\n",
    "        try:\n",
    "            df = pd.read_csv(match_file, index_col='match_id')\n",
    "            df = preprocess(df)\n",
    "\n",
    "            inn1 = df[df['innings'] == 1]\n",
    "            inn2 = df[df['innings'] == 2]\n",
    "\n",
    "            if (inn1.iloc[1]['batting_team'] == p_team or p_team == -1):\n",
    "                if (inn1.iloc[1]['bowling_team'] == opp_team or opp_team == -1):\n",
    "                    if len(req_df) < num or num == -1:\n",
    "                        req_df.append(df)\n",
    "            elif (inn2.iloc[1]['batting_team'] == p_team or p_team == -1):\n",
    "                if (inn2.iloc[1]['bowling_team'] == opp_team or opp_team == -1):\n",
    "                    if len(req_df) < num or num == -1:\n",
    "                        req_df.append(df)\n",
    "\n",
    "        except Exception as e:\n",
    "            print(e)\n",
    "\n",
    "    return req_df\n",
    "\n",
    "\n",
    "def preprocess(df):\n",
    "    pp_df = df[df['ball'] <= 6.1]\n",
    "    pp_df = pp_df[pp_df['innings'] <= 2]\n",
    "\n",
    "    pp_df['total_runs'] = pp_df['runs_off_bat'] + pp_df['extras']\n",
    "\n",
    "    return pp_df"
   ]
  },
  {
   "cell_type": "code",
   "execution_count": 83,
   "metadata": {
    "tags": []
   },
   "outputs": [
    {
     "output_type": "stream",
     "name": "stdout",
     "text": [
      "single positional indexer is out-of-bounds\n",
      "single positional indexer is out-of-bounds\n"
     ]
    }
   ],
   "source": [
    "p_team = \"Chennai Super Kings\"\n",
    "opp_team = \"Kings XI Punjab\"\n",
    "df_list = match_history(p_team, -1, -1)"
   ]
  },
  {
   "cell_type": "code",
   "execution_count": 68,
   "metadata": {},
   "outputs": [],
   "source": [
    "import csv\n",
    "\n",
    "def read_files(fileName, n_features):\n",
    "    dictionary = {}\n",
    "    with open(fileName, mode='r') as infile:\n",
    "        reader = csv.reader(infile)\n",
    "\n",
    "        for row in reader:\n",
    "            for i in range(1, n_features + 1):\n",
    "                dictionary.setdefault(row[0], []).append(row[i])\n",
    "    \n",
    "    return dictionary\n",
    "            "
   ]
  },
  {
   "cell_type": "code",
   "execution_count": 94,
   "metadata": {},
   "outputs": [
    {
     "output_type": "stream",
     "name": "stdout",
     "text": [
      "{'Rajiv Gandhi International Stadium, Uppal': 45.1875, 'Maharashtra Cricket Association Stadium': 47.285714285714285, 'Saurashtra Cricket Association Stadium': 54.9, 'Holkar Cricket Stadium': 51.611111111111114, 'M.Chinnaswamy Stadium': 45.72435897435897, 'Wankhede Stadium': 45.29054054054054, 'Eden Gardens': 46.103896103896105, 'M Chinnaswamy Stadium': 45.72435897435897, 'Feroz Shah Kotla': 47.57823129251701, 'Punjab Cricket Association IS Bindra Stadium, Mohali': 48.098214285714285, 'Green Park': 54.375, 'Punjab Cricket Association IS Bindra Stadium': 48.098214285714285, 'Rajiv Gandhi International Stadium': 45.1875, 'MA Chidambaram Stadium': 46.21186440677966, 'Sawai Mansingh Stadium': 44.88297872340426, 'Arun Jaitley Stadium': 47.57823129251701, 'Dr. Y.S. Rajasekhara Reddy ACA-VDCA Cricket Stadium': 40.73076923076923, 'Sheikh Zayed Stadium': 43.310344827586206, 'Dubai International Cricket Stadium': 44.45454545454545, 'Sharjah Cricket Stadium': 46.916666666666664, 'MA Chidambaram Stadium, Chepauk, Chennai': 46.21186440677966, 'Wankhede Stadium, Mumbai': 45.29054054054054, 'Punjab Cricket Association Stadium, Mohali': 48.098214285714285, 'MA Chidambaram Stadium, Chepauk': 46.21186440677966, 'Dr DY Patil Sports Academy': 41.911764705882355, 'Newlands': 39.07142857142857, \"St George's Park\": 44.214285714285715, 'Kingsmead': 45.86666666666667, 'SuperSport Park': 45.0, 'Buffalo Park': 39.5, 'New Wanderers Stadium': 41.25, 'De Beers Diamond Oval': 40.0, 'OUTsurance Oval': 33.25, 'Brabourne Stadium': 51.5, 'Sardar Patel Stadium, Motera': 46.791666666666664, 'Barabati Stadium': 43.57142857142857, 'Vidarbha Cricket Association Stadium, Jamtha': 44.0, 'Himachal Pradesh Cricket Association Stadium': 40.55555555555556, 'Nehru Stadium': 39.7, 'Subrata Roy Sahara Stadium': 41.88235294117647, 'Shaheed Veer Narayan Singh International Stadium': 38.0, 'JSCA International Stadium Complex': 38.5}\n"
     ]
    }
   ],
   "source": [
    "stad_rating = read_files('stadium_rating.csv', 1)\n",
    "\n",
    "for k in stad_rating:\n",
    "    stad_rating[k] = float(stad_rating[k][0])\n",
    "\n",
    "print(stad_rating)"
   ]
  },
  {
   "cell_type": "code",
   "execution_count": 96,
   "metadata": {
    "tags": []
   },
   "outputs": [],
   "source": [
    "batsmen_record = read_files('batsmen_record.csv', 2)\n",
    "\n",
    "for k in batsmen_record:\n",
    "    for (i, p) in enumerate(batsmen_record[k]):\n",
    "        batsmen_record[k][i] = [int(s) for s in p[1:-1].split(',')]"
   ]
  },
  {
   "cell_type": "code",
   "execution_count": 97,
   "metadata": {
    "tags": []
   },
   "outputs": [],
   "source": [
    "bowlers_record = read_files('bowlers_record.csv', 4)\n",
    "\n",
    "for k in bowlers_record:\n",
    "    for (i, p) in enumerate(bowlers_record[k]):\n",
    "        bowlers_record[k][i] = [int(s) for s in p[1:-1].split(',')]"
   ]
  },
  {
   "cell_type": "code",
   "execution_count": 98,
   "metadata": {},
   "outputs": [],
   "source": [
    "def get_venue_score(df):\n",
    "    venue = df.iloc[1]['venue']\n",
    "    return stad_rating[venue]\n",
    "\n",
    "def get_batsmen_scores(df):\n",
    "    u_bat = list(set(df['striker'].unique()) | set(df['non_striker'].unique()))\n",
    "\n",
    "    rating = []\n",
    "\n",
    "    for batsman in u_bat:\n",
    "        rating.append(np.mean(batsmen_record[batsman][0]))\n",
    "    \n",
    "    return rating\n",
    "    \n",
    "def get_bowlers_scores(df):\n",
    "\n",
    "    u_bowlers = list(df['bowler'].unique())\n",
    "\n",
    "    rating = []\n",
    "\n",
    "    for (i,bowler) in enumerate(u_bowlers, 0):\n",
    "        rating.append(random.uniform(0, 1))\n",
    "    \n",
    "    return rating\n",
    "\n",
    "def get_wickets(df):\n",
    "    return len(get_batsmen_scores(df)) - 2"
   ]
  },
  {
   "cell_type": "code",
   "execution_count": 99,
   "metadata": {},
   "outputs": [],
   "source": [
    "X = []\n",
    "Y = []\n",
    "\n",
    "for df in df_list:\n",
    "    match_id = df.index[0]\n",
    "\n",
    "    #innings for which we are going to use for training (when the team is batting)\n",
    "    inn = df.loc[(df['batting_team'] == p_team)]['innings'].iloc[0] \n",
    "    df_train_inn = df.loc[(df['innings'] == inn)]\n",
    "\n",
    "    runs_x = df_train_inn['total_runs'].sum() #runs of training innings\n",
    "    runs_target = df.loc[(df['innings'] == 3 - inn)]['total_runs'].sum() #runs of other innings\n",
    "\n",
    "\n",
    "\n",
    "    #convert the df into usable training data with required features\n",
    "    # to add bowler rating: 'bowlers_rating': [numpy.array(get_bowlers_scores(df_train_inn))] \n",
    "    temp = pd.DataFrame({'venue': [get_venue_score(df)], 'batsmen_rating': [np.sum(np.array(get_batsmen_scores(df_train_inn)))], 'wickets': [get_wickets(df_train_inn)], 'other_runs': [runs_target], 'chasing': [0 if inn == 1 else 1]})\n",
    "\n",
    "    X.append(temp.values.tolist()[0])\n",
    "    Y.append(runs_x)"
   ]
  },
  {
   "cell_type": "code",
   "execution_count": 124,
   "metadata": {},
   "outputs": [
    {
     "output_type": "stream",
     "name": "stdout",
     "text": [
      "[[38.5, 48.26905480140774, 1.0, 65.0, 0.0], [40.73076923076923, 30.888888888888886, 0.0, 42.0, 1.0], [47.57823129251701, 24.614718614718612, 0.0, 40.0, 1.0], [45.72435897435897, 51.74051573426574, 1.0, 46.0, 0.0], [44.45454545454545, 41.33694083694083, 2.0, 37.0, 1.0], [46.21186440677966, 35.95479368932039, 0.0, 53.0, 1.0], [41.911764705882355, 35.95479368932039, 0.0, 33.0, 0.0], [46.21186440677966, 47.1781512605042, 2.0, 36.0, 0.0], [44.45454545454545, 30.888888888888886, 0.0, 47.0, 1.0], [47.57823129251701, 32.12127096204766, 0.0, 57.0, 0.0], [46.21186440677966, 67.3657562561653, 3.0, 35.0, 0.0], [44.88297872340426, 32.12127096204766, 0.0, 24.0, 0.0], [43.310344827586206, 48.00909673012892, 1.0, 24.0, 0.0], [48.098214285714285, 52.263262304039, 2.0, 79.0, 1.0], [44.88297872340426, 32.12127096204766, 0.0, 48.0, 0.0], [46.21186440677966, 32.12127096204766, 0.0, 56.0, 0.0], [43.310344827586206, 36.02380261248186, 0.0, 66.0, 0.0], [47.57823129251701, 28.942857142857143, 0.0, 54.0, 1.0], [40.55555555555556, 47.459506256165305, 2.0, 43.0, 0.0], [46.21186440677966, 40.54683257918552, 1.0, 68.0, 1.0], [46.21186440677966, 42.874183006535944, 1.0, 58.0, 1.0], [45.29054054054054, 48.00909673012892, 1.0, 42.0, 1.0], [46.21186440677966, 32.12127096204766, 0.0, 33.0, 0.0], [46.21186440677966, 32.12127096204766, 0.0, 48.0, 0.0], [45.1875, 64.23131895235113, 2.0, 76.0, 1.0], [43.310344827586206, 32.82222222222222, 0.0, 53.0, 1.0], [46.103896103896105, 67.07085079398044, 4.0, 35.0, 1.0], [39.7, 44.10656507969472, 1.0, 49.0, 0.0], [44.88297872340426, 59.859386657374266, 4.0, 55.0, 1.0], [46.21186440677966, 48.00909673012892, 1.0, 61.0, 0.0], [44.45454545454545, 48.00909673012892, 1.0, 38.0, 0.0], [45.29054054054054, 50.35656507969472, 2.0, 44.0, 1.0], [47.285714285714285, 24.614718614718612, 0.0, 30.0, 1.0], [47.285714285714285, 36.60001273236567, 1.0, 50.0, 0.0], [46.21186440677966, 56.33276694800185, 3.0, 46.0, 1.0], [51.5, 36.28376068376068, 0.0, 53.0, 1.0], [45.1875, 42.874183006535944, 1.0, 41.0, 0.0], [45.1875, 42.874183006535944, 1.0, 46.0, 1.0], [45.0, 24.96153846153846, 0.0, 57.0, 0.0], [46.21186440677966, 32.12127096204766, 0.0, 47.0, 0.0], [46.21186440677966, 64.23131895235113, 2.0, 43.0, 0.0], [44.88297872340426, 36.60001273236567, 1.0, 57.0, 0.0], [47.57823129251701, 50.50606002918967, 2.0, 51.0, 0.0], [46.21186440677966, 53.10656507969472, 2.0, 41.0, 1.0], [45.29054054054054, 40.28422325868146, 2.0, 39.0, 1.0], [46.21186440677966, 32.12127096204766, 0.0, 41.0, 1.0], [39.5, 35.95479368932039, 0.0, 53.0, 0.0], [39.07142857142857, 68.65308257918552, 2.0, 40.0, 1.0], [44.45454545454545, 31.266666666666666, 0.0, 49.0, 1.0], [46.21186440677966, 44.10656507969472, 1.0, 65.0, 0.0], [46.21186440677966, 42.874183006535944, 1.0, 63.0, 0.0], [46.916666666666664, 68.13750106103046, 5.0, 56.0, 0.0], [41.88235294117647, 48.68802139037433, 2.0, 47.0, 0.0], [46.21186440677966, 42.43802139037433, 1.0, 37.0, 0.0], [45.72435897435897, 59.859386657374266, 4.0, 49.0, 1.0], [46.103896103896105, 52.82223495458789, 2.0, 49.0, 1.0], [46.103896103896105, 35.37127096204766, 1.0, 47.0, 1.0], [46.21186440677966, 35.667788461538464, 0.0, 38.0, 1.0], [46.103896103896105, 47.94008780696745, 1.0, 46.0, 0.0], [46.791666666666664, 47.94008780696745, 1.0, 62.0, 1.0], [44.45454545454545, 47.87409253972721, 3.0, 43.0, 1.0], [48.098214285714285, 60.24250776353995, 2.0, 41.0, 1.0], [46.21186440677966, 47.94008780696745, 1.0, 63.0, 0.0], [45.72435897435897, 50.35656507969472, 2.0, 55.0, 0.0], [38.0, 48.00909673012892, 1.0, 32.0, 0.0], [46.916666666666664, 36.02380261248186, 0.0, 38.0, 1.0], [45.29054054054054, 50.80751633986928, 2.0, 66.0, 0.0], [46.21186440677966, 36.28383780696745, 1.0, 52.0, 0.0], [46.21186440677966, 30.452727272727273, 0.0, 64.0, 0.0], [45.72435897435897, 48.00909673012892, 1.0, 38.0, 0.0], [45.1875, 40.54683257918552, 1.0, 27.0, 1.0], [45.86666666666667, 51.293028983438035, 2.0, 35.0, 0.0], [43.310344827586206, 56.88548452626122, 2.0, 52.0, 1.0], [43.310344827586206, 54.63694083694084, 2.0, 32.0, 0.0], [45.72435897435897, 56.459506256165305, 3.0, 76.0, 1.0], [45.1875, 44.10656507969472, 1.0, 50.0, 0.0], [45.29054054054054, 43.88968972204266, 1.0, 35.0, 1.0], [38.5, 52.35648795648795, 1.0, 29.0, 1.0], [46.21186440677966, 34.45751633986928, 1.0, 47.0, 1.0], [45.29054054054054, 44.25606002918967, 1.0, 50.0, 0.0], [46.21186440677966, 50.35656507969472, 2.0, 52.0, 0.0], [44.88297872340426, 66.29263089851325, 4.0, 48.0, 0.0], [45.72435897435897, 48.20001273236567, 2.0, 52.0, 1.0], [45.29054054054054, 64.23131895235113, 2.0, 76.0, 1.0], [47.285714285714285, 36.60001273236567, 1.0, 36.0, 0.0], [46.791666666666664, 64.23131895235113, 2.0, 47.0, 0.0], [46.21186440677966, 63.7258098519128, 2.0, 53.0, 0.0], [43.310344827586206, 40.83694083694083, 1.0, 53.0, 1.0], [47.57823129251701, 41.917788461538464, 1.0, 56.0, 1.0], [41.25, 35.667788461538464, 0.0, 60.0, 0.0], [46.916666666666664, 30.715210355987054, 0.0, 55.0, 1.0], [44.45454545454545, 42.77027417027417, 1.0, 46.0, 1.0], [47.285714285714285, 30.888888888888886, 0.0, 60.0, 0.0], [46.21186440677966, 53.25606002918967, 2.0, 54.0, 0.0], [40.55555555555556, 54.19008780696745, 2.0, 50.0, 1.0], [51.5, 53.90308257918552, 2.0, 67.0, 0.0], [45.72435897435897, 48.26905480140774, 1.0, 37.0, 1.0], [46.21186440677966, 64.23131895235113, 2.0, 44.0, 0.0], [46.21186440677966, 47.94008780696745, 1.0, 23.0, 1.0], [46.103896103896105, 42.874183006535944, 1.0, 56.0, 0.0], [47.285714285714285, 61.25556828792123, 3.0, 30.0, 1.0], [46.21186440677966, 28.56153846153846, 0.0, 23.0, 1.0], [43.57142857142857, 48.00909673012892, 1.0, 39.0, 1.0], [46.21186440677966, 42.53383780696745, 2.0, 49.0, 1.0], [47.57823129251701, 36.60001273236567, 1.0, 44.0, 1.0], [40.0, 54.19008780696745, 2.0, 38.0, 1.0], [38.5, 54.67576339679559, 2.0, 18.0, 0.0], [46.21186440677966, 44.10656507969472, 1.0, 57.0, 1.0], [46.21186440677966, 36.02380261248186, 0.0, 52.0, 0.0], [46.103896103896105, 76.58426012882173, 4.0, 39.0, 0.0], [41.911764705882355, 43.88968972204266, 1.0, 41.0, 0.0], [46.21186440677966, 55.04683257918552, 3.0, 51.0, 0.0], [45.72435897435897, 68.08950625616532, 4.0, 45.0, 0.0], [46.21186440677966, 35.667788461538464, 0.0, 61.0, 1.0], [45.29054054054054, 64.34178207413501, 2.0, 49.0, 1.0], [46.103896103896105, 28.56153846153846, 0.0, 37.0, 1.0], [48.098214285714285, 51.74051573426574, 1.0, 64.0, 0.0], [44.0, 47.94008780696745, 1.0, 37.0, 0.0], [46.21186440677966, 52.82223495458789, 2.0, 29.0, 1.0], [45.29054054054054, 47.1781512605042, 2.0, 78.0, 0.0], [46.21186440677966, 64.23131895235113, 2.0, 41.0, 0.0], [48.098214285714285, 32.12127096204766, 0.0, 44.0, 1.0], [46.916666666666664, 44.68888888888889, 1.0, 42.0, 0.0], [46.103896103896105, 48.00909673012892, 1.0, 56.0, 0.0], [46.21186440677966, 48.00909673012892, 1.0, 55.0, 0.0], [46.21186440677966, 36.60001273236567, 1.0, 65.0, 1.0], [46.21186440677966, 44.7043956043956, 1.0, 65.0, 0.0], [44.45454545454545, 36.02380261248186, 0.0, 31.0, 1.0], [46.21186440677966, 50.35656507969472, 2.0, 33.0, 1.0], [38.5, 48.00909673012892, 1.0, 39.0, 0.0], [46.103896103896105, 50.35656507969472, 2.0, 34.0, 0.0], [46.21186440677966, 32.12127096204766, 0.0, 41.0, 0.0], [46.21186440677966, 22.47222222222222, 0.0, 41.0, 1.0], [46.21186440677966, 47.94008780696745, 1.0, 46.0, 0.0], [44.214285714285715, 53.90308257918552, 2.0, 49.0, 1.0], [44.88297872340426, 53.10656507969472, 2.0, 28.0, 1.0], [46.103896103896105, 48.1195598519128, 1.0, 62.0, 1.0], [46.21186440677966, 30.888888888888886, 0.0, 46.0, 0.0], [45.0, 38.14154411764706, 1.0, 53.0, 0.0], [46.21186440677966, 50.35656507969472, 2.0, 44.0, 0.0], [45.29054054054054, 56.17517613105848, 3.0, 47.0, 1.0], [41.911764705882355, 57.543028983438035, 3.0, 24.0, 0.0], [46.21186440677966, 44.10656507969472, 1.0, 48.0, 1.0]] [61, 42, 44, 36, 26, 58, 40, 54, 61, 48, 40, 38, 34, 54, 56, 54, 71, 62, 26, 66, 50, 38, 45, 56, 55, 58, 35, 42, 24, 46, 51, 25, 57, 55, 40, 60, 27, 54, 59, 53, 38, 56, 41, 37, 42, 58, 57, 44, 44, 34, 31, 24, 29, 37, 32, 44, 27, 48, 33, 59, 37, 49, 66, 30, 16, 48, 34, 45, 68, 45, 44, 53, 38, 43, 56, 51, 39, 35, 49, 52, 42, 39, 59, 100, 71, 39, 53, 55, 57, 52, 54, 49, 57, 43, 50, 52, 65, 59, 68, 57, 33, 44, 47, 40, 60, 37, 39, 59, 53, 70, 44, 38, 24, 47, 55, 44, 57, 55, 40, 28, 36, 38, 40, 36, 54, 76, 48, 57, 31, 43, 15, 46, 45, 47, 36, 37, 35, 54, 58, 42, 34, 39, 44]\n[[46.21186440677966, 59.543028983438035, 4.0, 57.0, 1.0], [46.21186440677966, 36.60001273236567, 1.0, 34.0, 1.0], [44.214285714285715, 35.667788461538464, 0.0, 46.0, 0.0], [41.88235294117647, 32.27076591154261, 0.0, 57.0, 0.0], [45.86666666666667, 36.946832579185525, 1.0, 30.0, 0.0], [45.29054054054054, 43.637164435152044, 3.0, 41.0, 1.0], [46.21186440677966, 32.12127096204766, 0.0, 27.0, 1.0], [45.1875, 30.888888888888886, 0.0, 68.0, 0.0], [45.86666666666667, 47.65308257918552, 1.0, 60.0, 1.0], [47.57823129251701, 36.02380261248186, 0.0, 47.0, 1.0], [44.45454545454545, 63.53743257820928, 2.0, 37.0, 1.0], [44.45454545454545, 54.63694083694084, 2.0, 41.0, 0.0], [40.73076923076923, 50.50606002918967, 2.0, 45.0, 0.0], [45.72435897435897, 44.86778846153847, 1.0, 39.0, 1.0], [45.86666666666667, 47.65308257918552, 1.0, 70.0, 0.0], [45.29054054054054, 42.874183006535944, 1.0, 43.0, 1.0], [46.21186440677966, 32.27076591154261, 0.0, 57.0, 1.0], [45.29054054054054, 36.02380261248186, 0.0, 31.0, 1.0], [45.0, 53.90308257918552, 2.0, 38.0, 0.0], [46.21186440677966, 53.28024361259655, 2.0, 38.0, 0.0], [46.21186440677966, 32.12127096204766, 0.0, 49.0, 0.0], [46.21186440677966, 68.87077864390828, 3.0, 44.0, 0.0], [47.285714285714285, 36.60001273236567, 1.0, 47.0, 1.0], [46.21186440677966, 44.25606002918967, 1.0, 48.0, 0.0], [38.5, 64.23131895235113, 2.0, 42.0, 1.0], [46.21186440677966, 43.637164435152044, 3.0, 46.0, 0.0], [47.57823129251701, 44.10656507969472, 1.0, 32.0, 0.0], [41.25, 54.19008780696745, 2.0, 51.0, 0.0], [48.098214285714285, 42.53383780696745, 2.0, 66.0, 0.0], [46.103896103896105, 32.12127096204766, 0.0, 50.0, 1.0], [45.29054054054054, 50.35656507969472, 2.0, 44.0, 1.0], [46.21186440677966, 48.00909673012892, 1.0, 39.0, 0.0], [41.911764705882355, 38.37127096204766, 1.0, 37.0, 1.0], [45.29054054054054, 62.60656507969472, 4.0, 33.0, 1.0], [48.098214285714285, 42.874183006535944, 1.0, 69.0, 0.0], [46.21186440677966, 22.47222222222222, 0.0, 53.0, 0.0]] [34, 16, 68, 43, 51, 34, 46, 42, 66, 49, 35, 44, 45, 29, 62, 36, 53, 90, 41, 47, 47, 33, 42, 57, 48, 31, 40, 54, 35, 51, 45, 55, 29, 32, 42, 43]\n"
     ]
    }
   ],
   "source": [
    "train_x, test_x, train_y, test_y = train_test_split(X, Y, test_size=0.2, random_state=42)\n",
    "\n",
    "print(train_x, train_y)\n",
    "print(test_x, test_y)"
   ]
  },
  {
   "cell_type": "code",
   "execution_count": 216,
   "metadata": {},
   "outputs": [],
   "source": [
    "from sklearn.linear_model import ElasticNet, Lasso,  BayesianRidge, LassoLarsIC\n",
    "from sklearn.ensemble import RandomForestRegressor,  GradientBoostingRegressor\n",
    "from sklearn.linear_model import LinearRegression, BayesianRidge\n",
    "from sklearn.tree import DecisionTreeRegressor \n",
    "from sklearn.preprocessing import PolynomialFeatures\n",
    "from sklearn.kernel_ridge import KernelRidge\n",
    "from sklearn.pipeline import make_pipeline\n",
    "from sklearn.preprocessing import RobustScaler\n",
    "from sklearn.base import BaseEstimator, TransformerMixin, RegressorMixin, clone\n",
    "from sklearn.model_selection import KFold, cross_val_score, train_test_split\n",
    "from sklearn.metrics import mean_squared_error\n",
    "import xgboost as xgb\n",
    "import lightgbm as lgb\n",
    "from sklearn.metrics import mean_squared_error"
   ]
  },
  {
   "cell_type": "code",
   "execution_count": 221,
   "metadata": {},
   "outputs": [],
   "source": [
    "linear = LinearRegression()\n",
    "bayesian = BayesianRidge()\n",
    "dtree = DecisionTreeRegressor(random_state = 0) \n",
    "rforest = RandomForestRegressor(n_estimators = 100, random_state = 0)\n",
    "lasso = Lasso(alpha =0.0005, random_state=1)\n",
    "ENet = ElasticNet(alpha=0.0005, l1_ratio=.9, random_state=3)\n",
    "KRR = KernelRidge(alpha=0.6, kernel='polynomial', degree=2, coef0=2.5)\n",
    "GBoost = GradientBoostingRegressor(n_estimators=3000, learning_rate=0.05,\n",
    "                                   max_depth=4, max_features='sqrt',\n",
    "                                   min_samples_leaf=15, min_samples_split=10, \n",
    "                                   loss='huber', random_state =5)\n",
    "model_xgb = xgb.XGBRegressor(colsample_bytree=0.4603, gamma=0.0468, \n",
    "                             learning_rate=0.05, max_depth=3, \n",
    "                             min_child_weight=1.7817, n_estimators=2200,\n",
    "                             reg_alpha=0.4640, reg_lambda=0.8571,\n",
    "                             subsample=0.5213, silent=1,\n",
    "                             random_state =7, nthread = -1)\n",
    "model_lgb = lgb.LGBMRegressor(objective='regression',num_leaves=5,\n",
    "                              learning_rate=0.05, n_estimators=720,\n",
    "                              max_bin = 55, bagging_fraction = 0.8,\n",
    "                              bagging_freq = 5, feature_fraction = 0.2319,\n",
    "                              feature_fraction_seed=9, bagging_seed=9,\n",
    "                              min_data_in_leaf =6, min_sum_hessian_in_leaf = 11)\n",
    "\n",
    "models = [linear,bayesian,dtree,rforest, lasso, ENet, KRR, GBoost, model_lgb]"
   ]
  },
  {
   "cell_type": "code",
   "execution_count": 222,
   "metadata": {},
   "outputs": [],
   "source": [
    "def get_predictions(model):\n",
    "    model.fit(train_x, train_y)\n",
    "    return model.predict(test_x)"
   ]
  },
  {
   "cell_type": "code",
   "execution_count": 223,
   "metadata": {},
   "outputs": [
    {
     "output_type": "stream",
     "name": "stdout",
     "text": [
      "11.831544359919674\n",
      "12.0214588937326\n",
      "16.557140118054473\n",
      "13.677879648054615\n",
      "11.83154659064275\n",
      "11.831618336760235\n",
      "13.001279482961074\n",
      "15.28276426371131\n",
      "[LightGBM] [Warning] feature_fraction is set=0.2319, colsample_bytree=1.0 will be ignored. Current value: feature_fraction=0.2319\n",
      "[LightGBM] [Warning] min_data_in_leaf is set=6, min_child_samples=20 will be ignored. Current value: min_data_in_leaf=6\n",
      "[LightGBM] [Warning] min_sum_hessian_in_leaf is set=11, min_child_weight=0.001 will be ignored. Current value: min_sum_hessian_in_leaf=11\n",
      "[LightGBM] [Warning] bagging_fraction is set=0.8, subsample=1.0 will be ignored. Current value: bagging_fraction=0.8\n",
      "[LightGBM] [Warning] bagging_freq is set=5, subsample_freq=0 will be ignored. Current value: bagging_freq=5\n",
      "14.587990323528206\n"
     ]
    }
   ],
   "source": [
    "for model in models:\n",
    "    y_pred = get_predictions(model)\n",
    "    print(mean_squared_error(y_pred, test_y, squared=False))"
   ]
  },
  {
   "cell_type": "code",
   "execution_count": 210,
   "metadata": {},
   "outputs": [
    {
     "output_type": "stream",
     "name": "stdout",
     "text": [
      "11.831544359919675\n"
     ]
    }
   ],
   "source": [
    "#polynomial regression\n",
    "polynomial_features= PolynomialFeatures(degree=2)\n",
    "poly_reg = LinearRegression()\n",
    "poly_reg.fit(polynomial_features.fit_transform(train_x), train_y)\n",
    "y_pred_poly = poly_reg.predict(polynomial_features.fit_transform(test_x))\n",
    "print(mean_squared_error(y_pred_poly, test_y, squared=False))"
   ]
  },
  {
   "cell_type": "code",
   "execution_count": null,
   "metadata": {},
   "outputs": [],
   "source": []
  }
 ]
}