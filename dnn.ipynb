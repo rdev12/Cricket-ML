{
 "metadata": {
  "language_info": {
   "codemirror_mode": {
    "name": "ipython",
    "version": 3
   },
   "file_extension": ".py",
   "mimetype": "text/x-python",
   "name": "python",
   "nbconvert_exporter": "python",
   "pygments_lexer": "ipython3",
   "version": "3.9.4"
  },
  "orig_nbformat": 2,
  "kernelspec": {
   "name": "python394jvsc74a57bd04e1d2c650942a91b325b54b9274b36bdc9d492044a75ef951a73a8c46dea3f56",
   "display_name": "Python 3.9.4 64-bit"
  }
 },
 "nbformat": 4,
 "nbformat_minor": 2,
 "cells": [
  {
   "cell_type": "code",
   "execution_count": 415,
   "metadata": {},
   "outputs": [],
   "source": [
    "import numpy as np\n",
    "import pandas as pd\n",
    "from imutils import paths\n",
    "import seaborn as sns\n",
    "import matplotlib.pyplot as plt\n",
    "import random"
   ]
  },
  {
   "cell_type": "code",
   "execution_count": 316,
   "metadata": {},
   "outputs": [],
   "source": [
    "dataPaths = list(paths.list_files('.\\ipl_csv2'))\n",
    "dataPaths.pop(len(dataPaths) - 1)\n",
    "dataPaths.pop(len(dataPaths) - 2)\n",
    "\n",
    "\n",
    "\n",
    "def retrieve_past_data(team_a, team_b, num):\n",
    "    req_df = []\n",
    "    # stadium_avg = {}\n",
    "    # unique_bowlers = set()\n",
    "    # unique_batsmen = set()\n",
    "\n",
    "    for match_file in dataPaths:\n",
    "\n",
    "        try:\n",
    "            df = pd.read_csv(match_file, index_col='match_id')\n",
    "            # temp_a, temp_b = get_unique_players(df)\n",
    "            # unique_bowlers |= (temp_a) \n",
    "            # unique_batsmen |= (temp_b) \n",
    "            df = preprocess(df)\n",
    "            # stadium_avg = get_stadium_avg(stadium_avg, df)\n",
    "            if (df.iloc[1]['batting_team'] == team_a or df.iloc[1]['batting_team'] == team_b) and (df.iloc[1]['bowling_team'] == team_a or df.iloc[1]['bowling_team'] == team_b):\n",
    "                if len(req_df) < num or num == -1:\n",
    "                    req_df.append(df)\n",
    "        \n",
    "        except Exception as e:\n",
    "            print(e)\n",
    "\n",
    "    return req_df\n",
    "\n",
    "\n",
    "def preprocess(df):\n",
    "    pp_df = df[df['ball'] <= 5.6]\n",
    "    pp_df = pp_df[pp_df['innings'] <= 2]\n",
    "\n",
    "    pp_df['total_runs'] = pp_df['runs_off_bat'] + pp_df['extras']\n",
    "\n",
    "    return pp_df\n",
    "\n",
    "#for stadium avg\n",
    "def get_stadium_avg(stad_dict, df):\n",
    "    venue = df.iloc[1]['venue']\n",
    "    runs1 = df.loc[(df['ball'] < 6.1) & (df['innings'] == 1)]['total_runs'].sum()\n",
    "    runs2 = df.loc[(df['ball'] < 6.1) & (df['innings'] == 2)]['total_runs'].sum()\n",
    "\n",
    "    if (runs1 <= 150 and runs1 >= 10):\n",
    "        stad_dict.setdefault(venue,[]).append(runs1)\n",
    "    if (runs2 <= 150 and runs2 >= 10):\n",
    "        stad_dict.setdefault(venue,[]).append(runs2)\n",
    "\n",
    "    return stad_dict\n",
    "\n",
    "# def get_unique_players(df):\n",
    "#     bowlers = set(df['bowler'].unique().tolist())\n",
    "#     batsmen_striker = set(df['striker'].unique().tolist())\n",
    "#     batsmen_non_striker = set(df['non_striker'].unique().tolist())\n",
    "    \n",
    "#     batsmen = batsmen_striker | (batsmen_non_striker)\n",
    "\n",
    "#     return bowlers, batsmen\n"
   ]
  },
  {
   "cell_type": "code",
   "execution_count": 317,
   "metadata": {
    "tags": []
   },
   "outputs": [
    {
     "output_type": "stream",
     "name": "stderr",
     "text": [
      "C:\\Users\\rishi\\AppData\\Local\\Programs\\Python\\Python39\\lib\\site-packages\\IPython\\core\\interactiveshell.py:3357: DtypeWarning: Columns (1) have mixed types.Specify dtype option on import or set low_memory=False.\n  if (await self.run_code(code, result,  async_=asy)):\n"
     ]
    }
   ],
   "source": [
    "#returns a list of dataframes between the two given teams\n",
    "req_df = retrieve_past_data(\"Chennai Super Kings\", \"Kings XI Punjab\", -1)\n",
    "\n",
    "#format the data for visualization (leave it out for now)\n",
    "# stad_avg['M.Chinnaswamy Stadium'].extend(stad_avg['M Chinnaswamy Stadium'])\n",
    "# stad_avg.pop('M Chinnaswamy Stadium')\n",
    "\n",
    "# stad_avg['MA Chidambaram Stadium'].extend(stad_avg['MA Chidambaram Stadium, Chepauk'])\n",
    "# stad_avg['MA Chidambaram Stadium'].extend(stad_avg['MA Chidambaram Stadium, Chepauk, Chennai'])\n",
    "# stad_avg.pop('MA Chidambaram Stadium, Chepauk')\n",
    "# stad_avg.pop('MA Chidambaram Stadium, Chepauk, Chennai')\n",
    "\n",
    "# stad_avg['Punjab Cricket Association IS Bindra Stadium'].extend(stad_avg['Punjab Cricket Association IS Bindra Stadium, Mohali'])\n",
    "# stad_avg['Punjab Cricket Association IS Bindra Stadium'].extend(stad_avg['Punjab Cricket Association Stadium, Mohali'])\n",
    "# stad_avg.pop('Punjab Cricket Association IS Bindra Stadium, Mohali')\n",
    "# stad_avg.pop('Punjab Cricket Association Stadium, Mohali')\n",
    "\n",
    "# stad_avg['Rajiv Gandhi International Stadium'].extend(stad_avg['Rajiv Gandhi International Stadium, Uppal'])\n",
    "# stad_avg.pop('Rajiv Gandhi International Stadium, Uppal')\n",
    "\n",
    "# stad_avg['Arun Jaitley Stadium'].extend(stad_avg['Feroz Shah Kotla'])\n",
    "# stad_avg.pop('Feroz Shah Kotla')\n",
    "\n",
    "# stad_avg['Wankhede Stadium'].extend(stad_avg['Wankhede Stadium, Mumbai'])\n",
    "# stad_avg.pop('Wankhede Stadium, Mumbai')\n",
    "\n",
    "# print(stad_avg)"
   ]
  },
  {
   "cell_type": "code",
   "execution_count": 294,
   "metadata": {},
   "outputs": [
    {
     "output_type": "stream",
     "name": "stdout",
     "text": [
      "544\n"
     ]
    }
   ],
   "source": [
    "\r\n",
    "# # Importing library\r\n",
    "# import csv\r\n",
    "  \r\n",
    "# # data to be written row-wise in csv fil\r\n",
    "# data = list(u_batsmen)\r\n",
    "# data.sort()\r\n",
    "\r\n",
    "# with open('batsmen.csv', 'w') as myfile:\r\n",
    "#      wr = csv.writer(myfile, quoting=csv.QUOTE_ALL)\r\n",
    "\r\n",
    "#      for d in data:\r\n",
    "#         wr.writerow([d])\r\n",
    "\r\n",
    "# print(len(data))"
   ]
  },
  {
   "cell_type": "code",
   "execution_count": 318,
   "metadata": {},
   "outputs": [],
   "source": [
    "# stad_names = list(stad_avg.keys())\n",
    "# keys = pd.Series(stad_names, dtype=\"category\")\n",
    "# vals = [float(len(stad_avg[k])) for k in keys.cat.categories]\n",
    "\n",
    "\n",
    "# plt.figure(figsize=(20, 10))\n",
    "# sns.barplot(x=keys.cat.codes, y=vals)"
   ]
  },
  {
   "cell_type": "code",
   "execution_count": 319,
   "metadata": {},
   "outputs": [],
   "source": [
    "# dict(enumerate(keys.cat.categories))"
   ]
  },
  {
   "cell_type": "code",
   "execution_count": 395,
   "metadata": {
    "tags": []
   },
   "outputs": [],
   "source": [
    "#For cross validation, use the last of the req_df as test data and use the rest for training\n",
    "test = req_df[len(req_df) - 1]\n",
    "train_set = req_df[:len(req_df) - 1]\n",
    "\n",
    "#test_x is the test input similar to actual input\n",
    "test_batsmen = list(set(test.loc[(test['ball'] < 6.1) & (test['innings'] == 1)]['striker'].unique()) | set(test.loc[(test['ball'] < 6.1) & (test['innings'] == 1)]['non_striker'].unique()))\n",
    "test_bowlers = test.loc[(test['ball'] < 6.1) & (test['innings'] == 1)]['bowler'].unique()\n",
    "test_x = pd.DataFrame({'venue': [test.iloc[2]['venue']], 'innings': [1], 'batting_team': [test.iloc[2]['batting_team']], 'bowling_team':[test.iloc[2]['bowling_team']], 'batsmen': [test_batsmen], 'bowlers': [test_bowlers]})\n",
    "\n",
    "#used to find the innings of the training match we are going to use for training\n",
    "team_a = test.iloc[1]['batting_team']\n",
    "team_b = test.iloc[1]['bowling_team']\n",
    "\n",
    "test_x.head()\n",
    "\n",
    "for df in train_set:\n",
    "    match_id = df.index[0]\n",
    "\n",
    "    #innings for which we are going to use for training\n",
    "    inn = df[(df['batting_team'] == team_a) & (df['bowling_team'] == team_b)]['innings'].iloc[0] \n",
    "\n",
    "    runs_x = df.loc[(df['ball'] < 6.1) & (df['innings'] == inn)]['total_runs'].sum() #runs of training innings\n",
    "    runs_target = df.loc[(df['ball'] < 6.1) & (df['innings'] == 3 - inn)]['total_runs'].sum() #runs of other innings\n",
    "    \n",
    "    #MODEL CODE GOES HERE\n",
    "    \n",
    "\n",
    "    #convert the df into usable training data with required features\n",
    "    # train_x = pd.DataFrame('venue': [get_venue_score(df)], 'batsmen_rating': [get_batsmen_scores(df)], 'bowlers_rating': [get_bowlers_scores(df)], 'wickets': [get_wickets(df)])"
   ]
  },
  {
   "cell_type": "code",
   "execution_count": null,
   "metadata": {},
   "outputs": [],
   "source": [
    "# def get_venue_score(df):\n",
    "#     venue = df.iloc[1]['venue']\n",
    "#     #assign venue scores here\n",
    "\n",
    "#     return random.uniform(0, 1)\n",
    "\n",
    "# def get_batsmen_scores(df_list):\n",
    "#     u_bat = list(set(test.loc[(test['ball'] < 6.1) & (test['innings'] == 1)]['striker'].unique()) | set(test.loc[(test['ball'] < 6.1) & (test['innings'] == 1)]['non_striker'].unique()))\n",
    "\n",
    "#     for df in df_list:\n",
    "\n",
    "    \n",
    "#     return random.uniform(0, 1)"
   ]
  },
  {
   "cell_type": "code",
   "execution_count": 406,
   "metadata": {},
   "outputs": [],
   "source": []
  },
  {
   "cell_type": "code",
   "execution_count": 407,
   "metadata": {},
   "outputs": [],
   "source": []
  },
  {
   "cell_type": "code",
   "execution_count": 408,
   "metadata": {},
   "outputs": [],
   "source": []
  },
  {
   "cell_type": "code",
   "execution_count": 412,
   "metadata": {},
   "outputs": [],
   "source": []
  },
  {
   "cell_type": "code",
   "execution_count": 413,
   "metadata": {},
   "outputs": [],
   "source": []
  },
  {
   "cell_type": "code",
   "execution_count": null,
   "metadata": {},
   "outputs": [],
   "source": []
  }
 ]
}