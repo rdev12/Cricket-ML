{
 "metadata": {
  "language_info": {
   "codemirror_mode": {
    "name": "ipython",
    "version": 3
   },
   "file_extension": ".py",
   "mimetype": "text/x-python",
   "name": "python",
   "nbconvert_exporter": "python",
   "pygments_lexer": "ipython3",
   "version": "3.9.4"
  },
  "orig_nbformat": 2,
  "kernelspec": {
   "name": "python394jvsc74a57bd04e1d2c650942a91b325b54b9274b36bdc9d492044a75ef951a73a8c46dea3f56",
   "display_name": "Python 3.9.4 64-bit"
  }
 },
 "nbformat": 4,
 "nbformat_minor": 2,
 "cells": [
  {
   "cell_type": "code",
   "execution_count": 3,
   "metadata": {},
   "outputs": [],
   "source": [
    "import numpy as np\n",
    "import pandas as pd\n",
    "from imutils import paths\n",
    "import seaborn as sns\n",
    "import matplotlib.pyplot as plt\n",
    "import random"
   ]
  },
  {
   "cell_type": "code",
   "execution_count": 4,
   "metadata": {},
   "outputs": [],
   "source": [
    "dataPaths = list(paths.list_files('.\\ipl_csv2'))\n",
    "dataPaths.pop(len(dataPaths) - 1)\n",
    "dataPaths.pop(len(dataPaths) - 2)\n",
    "\n",
    "def retrieve_past_data(team_a, team_b, num):\n",
    "    req_df = []\n",
    "    stadium_avg = {}\n",
    "    unique_bowlers = set()\n",
    "    unique_batsmen = set()\n",
    "\n",
    "    for match_file in dataPaths:\n",
    "\n",
    "        try:\n",
    "            df = pd.read_csv(match_file, index_col='match_id')\n",
    "            temp_a, temp_b = get_unique_players(df)\n",
    "            unique_bowlers |= (temp_a) \n",
    "            unique_batsmen |= (temp_b) \n",
    "            df = preprocess(df)\n",
    "            stadium_avg = get_stadium_avg(stadium_avg, df)\n",
    "            if (df.iloc[1]['batting_team'] == team_a or df.iloc[1]['batting_team'] == team_b) and (df.iloc[1]['bowling_team'] == team_a or df.iloc[1]['bowling_team'] == team_b):\n",
    "                if len(req_df) < num or num == -1:\n",
    "                    req_df.append(df)\n",
    "        \n",
    "        except Exception as e:\n",
    "            print(e)\n",
    "\n",
    "    return req_df, stadium_avg, unique_batsmen, unique_bowlers\n",
    "\n",
    "\n",
    "def preprocess(df):\n",
    "    pp_df = df[df['ball'] <= 6.1]\n",
    "    pp_df = pp_df[pp_df['innings'] <= 2]\n",
    "\n",
    "    pp_df['total_runs'] = pp_df['runs_off_bat'] + pp_df['extras']\n",
    "\n",
    "    return pp_df\n",
    "\n",
    "#for stadium avg\n",
    "def get_stadium_avg(stad_dict, df):\n",
    "    venue = df.iloc[1]['venue']\n",
    "    runs1 = df.loc[(df['ball'] < 6.1) & (df['innings'] == 1)]['total_runs'].sum()\n",
    "    runs2 = df.loc[(df['ball'] < 6.1) & (df['innings'] == 2)]['total_runs'].sum()\n",
    "\n",
    "    \n",
    "    stad_dict.setdefault(venue,[]).append(runs1)\n",
    "    stad_dict.setdefault(venue,[]).append(runs2)\n",
    "\n",
    "    return stad_dict\n",
    "\n",
    "def get_unique_players(df):\n",
    "    bowlers = set(df['bowler'].unique().tolist())\n",
    "    batsmen_striker = set(df['striker'].unique().tolist())\n",
    "    batsmen_non_striker = set(df['non_striker'].unique().tolist())\n",
    "    \n",
    "    batsmen = batsmen_striker | (batsmen_non_striker)\n",
    "\n",
    "    return bowlers, batsmen\n"
   ]
  },
  {
   "cell_type": "code",
   "execution_count": 5,
   "metadata": {
    "tags": []
   },
   "outputs": [
    {
     "output_type": "stream",
     "name": "stderr",
     "text": [
      "C:\\Users\\rishi\\AppData\\Local\\Programs\\Python\\Python39\\lib\\site-packages\\IPython\\core\\interactiveshell.py:3357: DtypeWarning: Columns (1) have mixed types.Specify dtype option on import or set low_memory=False.\n  if (await self.run_code(code, result,  async_=asy)):\n"
     ]
    }
   ],
   "source": [
    "#returns a list of dataframes between the two given teams\n",
    "req_df, stad_avg, u_batsmen, u_bowler = retrieve_past_data(\"Chennai Super Kings\", \"Kings XI Punjab\", -1)"
   ]
  },
  {
   "cell_type": "code",
   "execution_count": 6,
   "metadata": {},
   "outputs": [],
   "source": [
    "#format the data for visualization (leave it out for now)\n",
    "\n",
    "stad_avg['M.Chinnaswamy Stadium'].extend(stad_avg['M Chinnaswamy Stadium'])\n",
    "# stad_avg.pop('M Chinnaswamy Stadium')\n",
    "\n",
    "stad_avg['MA Chidambaram Stadium'].extend(stad_avg['MA Chidambaram Stadium, Chepauk'])\n",
    "stad_avg['MA Chidambaram Stadium'].extend(stad_avg['MA Chidambaram Stadium, Chepauk, Chennai'])\n",
    "# stad_avg.pop('MA Chidambaram Stadium, Chepauk')\n",
    "# stad_avg.pop('MA Chidambaram Stadium, Chepauk, Chennai')\n",
    "\n",
    "stad_avg['Punjab Cricket Association IS Bindra Stadium'].extend(stad_avg['Punjab Cricket Association IS Bindra Stadium, Mohali'])\n",
    "stad_avg['Punjab Cricket Association IS Bindra Stadium'].extend(stad_avg['Punjab Cricket Association Stadium, Mohali'])\n",
    "# stad_avg.pop('Punjab Cricket Association IS Bindra Stadium, Mohali')\n",
    "# stad_avg.pop('Punjab Cricket Association Stadium, Mohali')\n",
    "\n",
    "stad_avg['Rajiv Gandhi International Stadium'].extend(stad_avg['Rajiv Gandhi International Stadium, Uppal'])\n",
    "# stad_avg.pop('Rajiv Gandhi International Stadium, Uppal')\n",
    "\n",
    "stad_avg['Arun Jaitley Stadium'].extend(stad_avg['Feroz Shah Kotla'])\n",
    "# stad_avg.pop('Feroz Shah Kotla')\n",
    "\n",
    "stad_avg['Wankhede Stadium'].extend(stad_avg['Wankhede Stadium, Mumbai'])\n",
    "# stad_avg.pop('Wankhede Stadium, Mumbai')"
   ]
  },
  {
   "cell_type": "code",
   "execution_count": 7,
   "metadata": {},
   "outputs": [
    {
     "output_type": "stream",
     "name": "stdout",
     "text": [
      "{'Rajiv Gandhi International Stadium, Uppal': 45.5859375, 'Maharashtra Cricket Association Stadium': 47.45238095238095, 'Saurashtra Cricket Association Stadium': 55.3, 'Holkar Cricket Stadium': 51.72222222222222, 'M.Chinnaswamy Stadium': 513.2125, 'Wankhede Stadium': 45.6554054054054, 'Eden Gardens': 46.26623376623377, 'M Chinnaswamy Stadium': 513.2125, 'Feroz Shah Kotla': 47.4527027027027, 'Punjab Cricket Association IS Bindra Stadium, Mohali': 48.42857142857143, 'Green Park': 55.0, 'Punjab Cricket Association IS Bindra Stadium': 48.42857142857143, 'Rajiv Gandhi International Stadium': 45.5859375, 'MA Chidambaram Stadium': 46.40677966101695, 'Sawai Mansingh Stadium': 45.04255319148936, 'Arun Jaitley Stadium': 47.4527027027027, 'Dr. Y.S. Rajasekhara Reddy ACA-VDCA Cricket Stadium': 40.96153846153846, 'Sheikh Zayed Stadium': 43.672413793103445, 'Dubai International Cricket Stadium': 44.71212121212121, 'Sharjah Cricket Stadium': 47.02777777777778, 'MA Chidambaram Stadium, Chepauk, Chennai': 46.40677966101695, 'Wankhede Stadium, Mumbai': 45.6554054054054, 'Punjab Cricket Association Stadium, Mohali': 48.42857142857143, 'MA Chidambaram Stadium, Chepauk': 46.40677966101695, 'Dr DY Patil Sports Academy': 42.3235294117647, 'Newlands': 40.07142857142857, \"St George's Park\": 44.785714285714285, 'Kingsmead': 45.93333333333333, 'SuperSport Park': 45.25, 'Buffalo Park': 39.5, 'New Wanderers Stadium': 41.875, 'De Beers Diamond Oval': 40.0, 'OUTsurance Oval': 33.5, 'Brabourne Stadium': 51.86363636363637, 'Sardar Patel Stadium, Motera': 46.958333333333336, 'Barabati Stadium': 43.57142857142857, 'Vidarbha Cricket Association Stadium, Jamtha': 44.166666666666664, 'Himachal Pradesh Cricket Association Stadium': 40.55555555555556, 'Nehru Stadium': 39.8, 'Subrata Roy Sahara Stadium': 41.88235294117647, 'Shaheed Veer Narayan Singh International Stadium': 38.333333333333336, 'JSCA International Stadium Complex': 38.785714285714285}\n"
     ]
    }
   ],
   "source": [
    "stad_rating = {}\n",
    "for stad in stad_avg:\n",
    "    stad_rating[stad] = float(np.mean(stad_avg[stad]))\n",
    "\n",
    "stad_rating['M Chinnaswamy Stadium'] = stad_rating['M.Chinnaswamy Stadium']\n",
    "stad_rating['MA Chidambaram Stadium, Chepauk'] = stad_rating['MA Chidambaram Stadium']\n",
    "stad_rating['MA Chidambaram Stadium, Chepauk, Chennai'] = stad_rating['MA Chidambaram Stadium']\n",
    "stad_rating['Punjab Cricket Association IS Bindra Stadium, Mohali'] = stad_rating['Punjab Cricket Association IS Bindra Stadium']\n",
    "stad_rating['Punjab Cricket Association Stadium, Mohali'] = stad_rating['Punjab Cricket Association IS Bindra Stadium']\n",
    "stad_rating['Rajiv Gandhi International Stadium, Uppal'] = stad_rating['Rajiv Gandhi International Stadium']\n",
    "stad_rating['Feroz Shah Kotla'] = stad_rating['Arun Jaitley Stadium']\n",
    "stad_rating['Wankhede Stadium, Mumbai'] = stad_rating['Wankhede Stadium']\n",
    "\n",
    "print(stad_rating)"
   ]
  },
  {
   "cell_type": "code",
   "execution_count": 8,
   "metadata": {
    "tags": []
   },
   "outputs": [
    {
     "output_type": "stream",
     "name": "stderr",
     "text": [
      "C:\\Users\\rishi\\AppData\\Local\\Programs\\Python\\Python39\\lib\\site-packages\\pandas\\core\\strings\\accessor.py:101: UserWarning: This pattern has match groups. To actually get the groups, use str.extract.\n",
      "  return func(self, *args, **kwargs)\n",
      "C:\\Users\\rishi\\AppData\\Local\\Programs\\Python\\Python39\\lib\\site-packages\\IPython\\core\\interactiveshell.py:3165: DtypeWarning: Columns (1) have mixed types.Specify dtype option on import or set low_memory=False.\n",
      "  has_raised = await self.run_ast_nodes(code_ast.body, cell_name,\n",
      "C:\\Users\\rishi\\AppData\\Local\\Programs\\Python\\Python39\\lib\\site-packages\\pandas\\core\\strings\\accessor.py:101: UserWarning: This pattern has match groups. To actually get the groups, use str.extract.\n",
      "  return func(self, *args, **kwargs)\n",
      "292\n"
     ]
    }
   ],
   "source": [
    "batsmen_record = {}\n",
    "bowlers_record = {}\n",
    "\n",
    "for match_file in dataPaths:\n",
    "    df = pd.read_csv(match_file, index_col='match_id')\n",
    "    df = df.loc[df['ball'] < 6.1]\n",
    "    m_bowl, m_bat = get_unique_players(df) \n",
    "\n",
    "    for bat in m_bat:\n",
    "        select = df.loc[df['striker'].str.contains(str(bat))]\n",
    "        runs_scored = select['runs_off_bat'].sum() + select['extras'].sum()\n",
    "        balls_faced = len(select.index)\n",
    "\n",
    "        batsmen_record.setdefault(bat,[[],[]])[0].append(runs_scored)\n",
    "        batsmen_record.setdefault(bat,[[],[]])[1].append(balls_faced)\n",
    "\n",
    "    for bowl in m_bowl:\n",
    "        select = df.loc[df['bowler'].str.contains(str(bowl))]\n",
    "\n",
    "        total_runs_given = select['runs_off_bat'].sum() + select['extras'].sum()\n",
    "        extras_given = select['extras'].sum()\n",
    "        balls_bowled = len(select.index)\n",
    "        wickets_taken = len(select.loc[select['wicket_type'].notnull()])\n",
    "\n",
    "        bowlers_record.setdefault(bowl,[[],[],[],[]])[0].append(total_runs_given)\n",
    "        bowlers_record.setdefault(bowl,[[],[],[],[]])[1].append(extras_given)\n",
    "        bowlers_record.setdefault(bowl,[[],[],[],[]])[2].append(balls_bowled)\n",
    "        bowlers_record.setdefault(bowl,[[],[],[],[]])[3].append(wickets_taken)\n"
   ]
  },
  {
   "cell_type": "code",
   "execution_count": 9,
   "metadata": {},
   "outputs": [
    {
     "output_type": "stream",
     "name": "stdout",
     "text": [
      "292\n346\n"
     ]
    }
   ],
   "source": [
    "print(len(batsmen_record))\n",
    "print(len(bowlers_record))\n"
   ]
  },
  {
   "cell_type": "code",
   "execution_count": 492,
   "metadata": {},
   "outputs": [],
   "source": [
    "\n",
    "# Importing library\n",
    "import csv\n",
    "  \n",
    "# data to be written row-wise in csv fil\n",
    "data = list(stad_rating)\n",
    "\n",
    "with open('stadium_rating.csv', 'w', newline='') as myfile:\n",
    "     wr = csv.writer(myfile, quoting=csv.QUOTE_ALL)\n",
    "\n",
    "     for d in data:\n",
    "        wr.writerow([d, stad_rating[d]])"
   ]
  },
  {
   "cell_type": "code",
   "execution_count": 522,
   "metadata": {},
   "outputs": [
    {
     "output_type": "stream",
     "name": "stdout",
     "text": [
      "['A Ashish Reddy', 'A Chopra', 'A Flintoff', 'A Mishra', 'A Mukund', 'A Symonds', 'AA Bilakhia', 'AA Jhunjhunwala', 'AB Agarkar', 'AB Barath', 'AB McDonald', 'AB de Villiers', 'AC Blizzard', 'AC Gilchrist', 'AC Voges', 'AD Hales', 'AD Mascarenhas', 'AD Mathews', 'AD Nath', 'AD Russell', 'AG Paunikar', 'AJ Finch', 'AL Menaria', 'AM Nayar', 'AM Rahane', 'AN Ghosh', 'AP Majumdar', 'AP Tare', 'AR Patel', 'AS Raut', 'AT Rayudu', 'AUK Pathan', 'Abdul Samad', 'Anirudh Singh', 'Ankit Sharma', 'Azhar Mahmood', 'B Chipli', 'BA Stokes', 'BB McCullum', 'BB Samantray', 'BJ Haddin', 'BJ Hodge', 'BJ Rohrer', 'BMAJ Mendis', 'BR Dunk', 'C Madan', 'C Munro', 'C de Grandhomme', 'CA Ingram', 'CA Lynn', 'CA Pujara', 'CH Gayle', 'CH Morris', 'CJ Anderson', 'CJ Ferguson', 'CL White', 'CM Gautam', 'D Padikkal', 'DA Miller', 'DA Warner', 'DB Das', 'DB Ravi Teja', 'DJ Bravo', 'DJ Harris', 'DJ Hooda', 'DJ Hussey', 'DJ Jacobs', 'DJ Thornely', 'DJG Sammy', 'DJM Short', 'DPMD Jayawardene', 'DR Martyn', 'DR Smith', 'DS Lehmann', 'DT Christian', 'E Lewis', 'EJG Morgan', 'ER Dwivedi', 'F du Plessis', 'FY Fazal', 'G Gambhir', 'GC Smith', 'GH Vihari', 'GJ Bailey', 'GJ Maxwell', 'Gurkeerat Singh', 'H Klaasen', 'HH Gibbs', 'HH Pandya', 'HM Amla', 'Harbhajan Singh', 'IK Pathan', 'IR Jaggi', 'Ishan Kishan', 'J Arunkumar', 'J Botha', 'JA Morkel', 'JC Archer', 'JC Buttler', 'JD Ryder', 'JEC Franklin', 'JH Kallis', 'JJ Roy', 'JL Denly', 'JM Bairstow', 'JM Kemp', 'JO Holder', 'JP Duminy', 'JP Faulkner', 'JR Hopes', 'JR Philippe', 'K Goel', 'K Gowtham', 'K Rabada', 'KA Pollard', 'KC Sangakkara', 'KD Karthik', 'KH Pandya', 'KK Cooper', 'KK Nair', 'KL Rahul', 'KM Jadhav', 'KP Pietersen', 'KS Williamson', 'KV Sharma', 'Kamran Akmal', 'L Ronchi', 'LA Carseldine', 'LA Pomersbach', 'LJ Wright', 'LMP Simmons', 'LPC Silva', 'LR Shukla', 'LRPL Taylor', 'LS Livingstone', 'M Kaif', 'M Klinger', 'M Manhas', 'M Rawat', 'M Vijay', 'M Vohra', 'MA Agarwal', 'MC Henriques', 'MC Juneja', 'MD Mishra', 'MDKJ Perera', 'MEK Hussey', 'MJ Clarke', 'MJ Guptill', 'MJ Lumb', 'MJ McClenaghan', 'MK Lomror', 'MK Pandey', 'MK Tiwary', 'ML Hayden', 'MM Ali', 'MN Samuels', 'MN van Wyk', 'MP Stoinis', 'MR Marsh', 'MS Bisla', 'MS Dhoni', 'MS Wade', 'MV Boucher', 'Mandeep Singh', 'Misbah-ul-Haq', 'Mohammad Ashraful', 'Mohammad Hafeez', 'Mohammad Nabi', 'N Jagadeesan', 'N Pooran', 'N Rana', 'N Saini', 'NA Saini', 'NJ Maddinson', 'NLTC Perera', 'NS Naik', 'NV Ojha', 'Niraj Patel', 'OA Shah', 'P Kumar', 'P Negi', 'P Simran Singh', 'PA Patel', 'PA Reddy', 'PC Valthaty', 'PD Collingwood', 'PJ Cummins', 'PK Garg', 'PP Chawla', 'PP Shaw', 'PR Shah', 'Q de Kock', 'R Ashwin', 'R Bishnoi', 'R Dravid', 'R McLaren', 'R Parag', 'R Sathish', 'R Tewatia', 'RA Jadeja', 'RA Tripathi', 'RD Gaikwad', 'RE Levi', 'RE van der Merwe', 'RG Sharma', 'RJ Quiney', 'RK Bhui', 'RM Patidar', 'RN ten Doeschate', 'RR Pant', 'RR Rossouw', 'RR Sarwan', 'RS Bopara', 'RT Ponting', 'RV Gomez', 'RV Uthappa', 'S Anirudha', 'S Badrinath', 'S Chanderpaul', 'S Dhawan', 'S Gopal', 'S Rana', 'S Sohal', 'S Sriram', 'S Vidyut', 'SA Asnodkar', 'SA Yadav', 'SB Styris', 'SC Ganguly', 'SD Chitnis', 'SD Lad', 'SE Marsh', 'SK Raina', 'SM Curran', 'SM Katich', 'SM Pollock', 'SN Khan', 'SO Hetmyer', 'SP Fleming', 'SP Goswami', 'SP Jackson', 'SP Narine', 'SPD Smith', 'SR Tendulkar', 'SR Watson', 'SS Iyer', 'SS Tiwary', 'ST Jayasuriya', 'STR Binny', 'SV Samson', 'SW Billings', 'Sachin Baby', 'Salman Butt', 'Shahid Afridi', 'Shakib Al Hasan', 'Shoaib Malik', 'Shubman Gill', 'Sohail Tanvir', 'Sunny Singh', 'T Banton', 'T Henderson', 'T Kohli', 'TD Paine', 'TL Suman', 'TM Dilshan', 'TM Head', 'TR Birt', 'UA Birla', 'UBT Chand', 'UT Khawaja', 'UT Yadav', 'V Kohli', 'V Sehwag', 'V Shankar', 'VH Zol', 'VVS Laxman', 'Vishnu Vinod', 'W Jaffer', 'WD Parnell', 'WP Saha', 'Washington Sundar', 'Y Gnaneswara Rao', 'Y Nagar', 'Y Venugopal Rao', 'YBK Jaiswal', 'YK Pathan', 'YV Takawale', 'Yashpal Singh', 'Younis Khan', 'Yuvraj Singh', 'Z Khan']\n"
     ]
    }
   ],
   "source": [
    "\n",
    "# Importing library\n",
    "import csv\n",
    "  \n",
    "# data to be written row-wise in csv fil\n",
    "data = list(batsmen_record.keys())\n",
    "data.sort()\n",
    "\n",
    "with open('batsmen_record.csv', 'w', newline='') as myfile:\n",
    "     wr = csv.writer(myfile, quoting=csv.QUOTE_ALL)\n",
    "\n",
    "     for d in data:\n",
    "        wr.writerow([d, batsmen_record[d][0], batsmen_record[d][1]])\n",
    "\n",
    "print(data)"
   ]
  },
  {
   "cell_type": "code",
   "execution_count": 523,
   "metadata": {},
   "outputs": [
    {
     "output_type": "stream",
     "name": "stdout",
     "text": [
      "['A Ashish Reddy', 'A Chandila', 'A Choudhary', 'A Dananjaya', 'A Flintoff', 'A Kumble', 'A Mishra', 'A Mithun', 'A Nehra', 'A Nel', 'A Nortje', 'A Singh', 'A Symonds', 'A Uniyal', 'A Zampa', 'AA Chavan', 'AA Jhunjhunwala', 'AA Noffke', 'AB Agarkar', 'AB Dinda', 'AB McDonald', 'AC Thomas', 'AC Voges', 'AD Mascarenhas', 'AD Mathews', 'AD Russell', 'AF Milne', 'AG Murtaza', 'AJ Finch', 'AJ Tye', 'AL Menaria', 'AM Nayar', 'AM Salvi', 'AN Ahmed', 'AP Dole', 'AR Patel', 'AS Joseph', 'AS Rajpoot', 'Anand Rajan', 'Ankit Sharma', 'Ankit Soni', 'Anureet Singh', 'Arshdeep Singh', 'Avesh Khan', 'Azhar Mahmood', 'B Akhil', 'B Geeves', 'B Kumar', 'B Laughlin', 'B Lee', 'B Stanlake', 'BA Bhatt', 'BA Stokes', 'BAW Mendis', 'BB Sran', 'BCJ Cutting', 'BE Hendricks', 'BJ Hodge', 'BW Hilfenhaus', 'Basil Thampi', 'Bipul Sharma', 'C de Grandhomme', 'CH Gayle', 'CH Morris', 'CJ Anderson', 'CJ Dala', 'CJ Green', 'CJ Jordan', 'CJ McKay', 'CK Langeveldt', 'CR Brathwaite', 'CR Woakes', 'CRD Fernando', 'CV Varun', 'D Wiese', 'D du Preez', 'DAJ Bracewell', 'DE Bollinger', 'DJ Bravo', 'DJ Hooda', 'DJ Hussey', 'DJ Muthuswami', 'DJ Willey', 'DJG Sammy', 'DL Chahar', 'DL Vettori', 'DNT Zoysa', 'DP Nannes', 'DP Vijaykumar', 'DR Sams', 'DR Smith', 'DS Kulkarni', 'DT Christian', 'DW Steyn', 'FH Edwards', 'GB Hogg', 'GC Viljoen', 'GD McGrath', 'GH Vihari', 'GJ Maxwell', 'GR Napier', 'GS Sandhu', 'Gagandeep Singh', 'Gurkeerat Singh', 'HF Gurney', 'HH Pandya', 'HV Patel', 'Harbhajan Singh', 'Harmeet Singh', 'Harmeet Singh (2)', 'Harpreet Brar', 'I Sharma', 'I Udana', 'IC Pandey', 'IK Pathan', 'IS Sodhi', 'Imran Tahir', 'Iqbal Abdulla', 'J Botha', 'J Suchith', 'J Syed Mohammad', 'J Theron', 'J Yadav', 'JA Morkel', 'JC Archer', 'JD Ryder', 'JD Unadkat', 'JDP Oram', 'JDS Neesham', 'JE Taylor', 'JEC Franklin', 'JH Kallis', 'JJ Bumrah', 'JJ van der Wath', 'JL Pattinson', 'JO Holder', 'JP Behrendorff', 'JP Duminy', 'JP Faulkner', 'JPR Scantlebury-Searles', 'JR Hazlewood', 'JR Hopes', 'JW Hastings', 'Jaskaran Singh', 'Joginder Sharma', 'K Gowtham', 'K Khejroliya', 'K Rabada', 'K Santokie', 'K Upadhyay', 'KA Jamieson', 'KA Pollard', 'KAJ Roach', 'KC Cariappa', 'KH Pandya', 'KJ Abbott', 'KK Ahmed', 'KK Cooper', 'KL Nagarkoti', 'KM Asif', 'KMA Paul', 'KMDN Kulasekara', 'KP Appanna', 'KP Pietersen', 'KS Williamson', 'KV Sharma', 'KW Richardson', 'Kamran Khan', 'Karanveer Singh', 'Kartik Tyagi', 'Kuldeep Yadav', 'L Ablish', 'L Balaji', 'L Ngidi', 'LA Carseldine', 'LE Plunkett', 'LH Ferguson', 'LJ Wright', 'LR Shukla', 'M Ashwin', 'M Jansen', 'M Kartik', 'M Morkel', 'M Muralitharan', 'M Ntini', 'M Prasidh Krishna', 'M Vijay', 'M de Lange', 'MA Starc', 'MB Parmar', 'MC Henriques', 'MF Maharoof', 'MG Johnson', 'MG Neser', 'MJ Henry', 'MJ McClenaghan', 'MJ Santner', 'MM Ali', 'MM Patel', 'MM Sharma', 'MN Samuels', 'MP Stoinis', 'MR Marsh', 'MS Gony', 'Mashrafe Mortaza', 'Mohammad Asif', 'Mohammad Nabi', 'Mohammed Shami', 'Mohammed Siraj', 'Monu Kumar', 'Mujeeb Ur Rahman', 'Mustafizur Rahman', 'N Rana', 'NA Saini', 'NB Singh', 'ND Doshi', 'NJ Rimmington', 'NL McCullum', 'NLTC Perera', 'NM Coulter-Nile', 'O Thomas', 'P Amarnath', 'P Awana', 'P Kumar', 'P Negi', 'P Parameswaran', 'P Sahu', 'P Suyal', 'PJ Cummins', 'PJ Sangwan', 'PM Sarvesh Kumar', 'PP Chawla', 'PP Ojha', 'PV Tambe', 'Pankaj Singh', 'Parvez Rasool', 'R Ashwin', 'R Bhatia', 'R Dhawan', 'R McLaren', 'R Parag', 'R Rampaul', 'R Sharma', 'R Shukla', 'R Tewatia', 'R Vinay Kumar', 'RA Jadeja', 'RA Shaikh', 'RD Chahar', 'RE van der Merwe', 'RG More', 'RG Sharma', 'RJ Harris', 'RJ Peterson', 'RP Singh', 'RR Bhatkal', 'RR Bose', 'RR Powar', 'RR Raje', 'RW Price', 'Rashid Khan', 'Rasikh Salam', 'Ravi Bishnoi', 'S Aravind', 'S Badree', 'S Dhawan', 'S Gopal', 'S Kaul', 'S Kaushik', 'S Ladda', 'S Lamichhane', 'S Nadeem', 'S Narwal', 'S Randiv', 'S Sandeep Warrier', 'S Sreesanth', 'S Tyagi', 'SA Abbott', 'SA Yadav', 'SB Bangar', 'SB Jakati', 'SB Styris', 'SB Wagh', 'SC Ganguly', 'SC Kuggeleijn', 'SD Chitnis', 'SE Bond', 'SJ Srivastava', 'SK Raina', 'SK Trivedi', 'SK Warne', 'SL Malinga', 'SM Boland', 'SM Curran', 'SM Harwood', 'SM Pollock', 'SMSM Senanayake', 'SN Thakur', 'SP Narine', 'SR Watson', 'SS Agarwal', 'SS Cottrell', 'SS Mundhe', 'SS Sarkar', 'ST Jayasuriya', 'STR Binny', 'SW Tait', 'Sandeep Sharma', 'Shahid Afridi', 'Shakib Al Hasan', 'Shivam Mavi', 'Shoaib Ahmed', 'Shoaib Akhtar', 'Sohail Tanvir', 'Sunny Gupta', 'T Natarajan', 'T Thushara', 'TA Boult', 'TG Southee', 'TK Curran', 'TL Suman', 'TM Dilshan', 'TP Sudhindra', 'TS Mills', 'TU Deshpande', 'Tejas Baroka', 'UT Yadav', 'Umar Gul', 'V Pratap Singh', 'V Sehwag', 'V Shankar', 'VR Aaron', 'VRV Singh', 'VS Malik', 'VS Yeligati', 'VY Mahesh', 'WD Parnell', 'WPUJC Vaas', 'Washington Sundar', 'Y Nagar', 'Y Prithvi Raj', 'Y Venugopal Rao', 'YA Abdulla', 'YK Pathan', 'YS Chahal', 'Z Khan']\n"
     ]
    }
   ],
   "source": [
    "\n",
    "# Importing library\n",
    "import csv\n",
    "  \n",
    "# data to be written row-wise in csv fil\n",
    "data = list(bowlers_record.keys())\n",
    "data.sort()\n",
    "\n",
    "with open('bowlers_record.csv', 'w', newline='') as myfile:\n",
    "     wr = csv.writer(myfile, quoting=csv.QUOTE_ALL)\n",
    "\n",
    "     for d in data:\n",
    "        wr.writerow([d, bowlers_record[d][0], bowlers_record[d][1], bowlers_record[d][2], bowlers_record[d][3]])\n",
    "\n",
    "print(data)"
   ]
  },
  {
   "cell_type": "code",
   "execution_count": 318,
   "metadata": {},
   "outputs": [],
   "source": [
    "# stad_names = list(stad_avg.keys())\n",
    "# keys = pd.Series(stad_names, dtype=\"category\")\n",
    "# vals = [float(len(stad_avg[k])) for k in keys.cat.categories]\n",
    "\n",
    "\n",
    "# plt.figure(figsize=(20, 10))\n",
    "# sns.barplot(x=keys.cat.codes, y=vals)"
   ]
  },
  {
   "cell_type": "code",
   "execution_count": 319,
   "metadata": {},
   "outputs": [],
   "source": [
    "# dict(enumerate(keys.cat.categories))"
   ]
  },
  {
   "cell_type": "code",
   "execution_count": 527,
   "metadata": {},
   "outputs": [],
   "source": [
    "def get_venue_score(df):\n",
    "    venue = df.iloc[1]['venue']\n",
    "    #assign venue scores here\n",
    "\n",
    "    return stad_rating[venue]\n",
    "\n",
    "def get_batsmen_scores(df):\n",
    "    u_bat = list(set(df['striker'].unique()) | set(df['non_striker'].unique()))\n",
    "\n",
    "    rating = []\n",
    "\n",
    "    for batsman in u_bat:\n",
    "        rating.append(np.mean(batsmen_record[batsman][0]))\n",
    "    \n",
    "    return rating\n",
    "    \n",
    "def get_bowlers_scores(df):\n",
    "\n",
    "    u_bowlers = list(df['bowler'].unique())\n",
    "\n",
    "    rating = []\n",
    "\n",
    "    for (i,bowler) in enumerate(u_bowlers, 0):\n",
    "        rating.append(random.uniform(0, 1))\n",
    "    \n",
    "    return rating\n",
    "\n",
    "def get_wickets(df):\n",
    "    return len(get_batsmen_scores(df)) - 2"
   ]
  },
  {
   "cell_type": "code",
   "execution_count": 580,
   "metadata": {
    "tags": []
   },
   "outputs": [
    {
     "output_type": "stream",
     "name": "stdout",
     "text": [
      "[[48.098214285714285, 38.129667259334525, 0.0, 53.0, 0.0], [47.285714285714285, 64.74773736127558, 3.0, 33.0, 0.0], [46.21186440677966, 60.7054248350921, 2.0, 54.0, 1.0], [48.098214285714285, 38.129667259334525, 0.0, 42.0, 1.0], [43.310344827586206, 51.7054248350921, 1.0, 57.0, 0.0], [44.45454545454545, 32.398338220918866, 0.0, 60.0, 0.0], [48.098214285714285, 25.64835164835165, 0.0, 53.0, 1.0], [46.21186440677966, 54.41758241758242, 2.0, 51.0, 1.0], [45.29054054054054, 67.54042524702189, 4.0, 35.0, 0.0], [45.0, 47.97234791352439, 1.0, 57.0, 1.0], [45.86666666666667, 48.52042483660131, 1.0, 50.0, 1.0], [46.21186440677966, 35.201530612244895, 1.0, 42.0, 0.0], [40.55555555555556, 37.255761381475665, 1.0, 49.0, 0.0], [48.098214285714285, 45.77194816053512, 1.0, 31.0, 1.0], [46.21186440677966, 25.30923076923077, 0.0, 48.0, 0.0], [40.55555555555556, 30.9775, 0.0, 25.0, 1.0], [48.098214285714285, 53.79050813008129, 2.0, 38.0, 0.0], [46.21186440677966, 38.934230769230766, 1.0, 36.0, 1.0], [43.310344827586206, 45.70418295296936, 3.0, 70.0, 1.0], [43.57142857142857, 41.452516286302696, 2.0, 46.0, 0.0], [45.29054054054054, 32.757991948851526, 0.0, 96.0, 0.0], [46.21186440677966, 54.629424943988056, 2.0, 53.0, 1.0], [48.098214285714285, 53.40815964523282, 3.0, 46.0, 0.0]]\n[75, 29, 46, 67, 53, 46, 56, 35, 35, 52, 29, 38, 49, 65, 43, 43, 43, 36, 63, 38, 70, 39, 41]\n"
     ]
    }
   ],
   "source": [
    "#For cross validation, use the last of the req_df as test data and use the rest for training\n",
    "test = req_df[len(req_df) - 1]\n",
    "train_set = req_df\n",
    "\n",
    "#test_x is the test input similar to actual input\n",
    "test_batsmen = list(set(test.loc[(test['ball'] < 6.1) & (test['innings'] == 1)]['striker'].unique()) | set(test.loc[(test['ball'] < 6.1) & (test['innings'] == 1)]['non_striker'].unique()))\n",
    "test_bowlers = test.loc[(test['ball'] < 6.1) & (test['innings'] == 1)]['bowler'].unique()\n",
    "test_x = pd.DataFrame({'venue': [test.iloc[2]['venue']], 'innings': [1], 'batting_team': [test.iloc[2]['batting_team']], 'bowling_team':[test.iloc[2]['bowling_team']], 'batsmen': [test_batsmen], 'bowlers': [test_bowlers]})\n",
    "test_y = [df.loc[(df['ball'] < 6.1) & (df['innings'] == 1)]['total_runs'].sum()]\n",
    "\n",
    "#used to find the innings of the training match we are going to use for training\n",
    "team_a = test.iloc[1]['batting_team']\n",
    "team_b = test.iloc[1]['bowling_team']\n",
    "\n",
    "train_x = []\n",
    "train_y = []\n",
    "\n",
    "for df in train_set:\n",
    "    match_id = df.index[0]\n",
    "\n",
    "    #innings for which we are going to use for training\n",
    "    inn = df[(df['batting_team'] == team_a) & (df['bowling_team'] == team_b)]['innings'].iloc[0] \n",
    "\n",
    "    runs_x = df.loc[(df['ball'] < 6.1) & (df['innings'] == inn)]['total_runs'].sum() #runs of training innings\n",
    "    runs_target = df.loc[(df['ball'] < 6.1) & (df['innings'] == 3 - inn)]['total_runs'].sum() #runs of other innings\n",
    "    \n",
    "    #MODEL CODE GOES HERE\n",
    "\n",
    "\n",
    "    #convert the df into usable training data with required features\n",
    "    df_train_inn = df.loc[(df['ball'] < 6.1) & (df['innings'] == inn)]\n",
    "\n",
    "    # to add bowler rating: 'bowlers_rating': [numpy.array(get_bowlers_scores(df_train_inn))] \n",
    "    temp = pd.DataFrame({'venue': [get_venue_score(df)], 'batsmen_rating': [np.sum(numpy.array(get_batsmen_scores(df_train_inn)))], 'wickets': [get_wickets(df_train_inn)], 'other_runs': [runs_target], 'chasing': [0 if inn == 1 else 1]})\n",
    "\n",
    "    train_x.append(temp.values.tolist()[0])\n",
    "    train_y.append(runs_x)\n",
    "\n",
    "print(train_x)\n",
    "print(train_y)"
   ]
  },
  {
   "cell_type": "code",
   "execution_count": 576,
   "metadata": {},
   "outputs": [],
   "source": [
    "from sklearn.linear_model import ElasticNet, Lasso,  BayesianRidge, LassoLarsIC\n",
    "from sklearn.ensemble import RandomForestRegressor,  GradientBoostingRegressor\n",
    "from sklearn.kernel_ridge import KernelRidge\n",
    "from sklearn.pipeline import make_pipeline\n",
    "from sklearn.preprocessing import RobustScaler\n",
    "from sklearn.base import BaseEstimator, TransformerMixin, RegressorMixin, clone\n",
    "from sklearn.model_selection import KFold, cross_val_score, train_test_split\n",
    "from sklearn.metrics import mean_squared_error\n",
    "import xgboost as xgb\n",
    "import lightgbm as lgb"
   ]
  },
  {
   "cell_type": "code",
   "execution_count": 577,
   "metadata": {},
   "outputs": [],
   "source": [
    "lasso = make_pipeline(RobustScaler(), Lasso(alpha =0.0005, random_state=1))\n",
    "ENet = make_pipeline(RobustScaler(), ElasticNet(alpha=0.0005, l1_ratio=.9, random_state=3))\n",
    "KRR = KernelRidge(alpha=0.6, kernel='polynomial', degree=2, coef0=2.5)\n",
    "GBoost = GradientBoostingRegressor(n_estimators=3000, learning_rate=0.05,\n",
    "                                   max_depth=4, max_features='sqrt',\n",
    "                                   min_samples_leaf=15, min_samples_split=10, \n",
    "                                   loss='huber', random_state =5)\n",
    "model_xgb = xgb.XGBRegressor(colsample_bytree=0.4603, gamma=0.0468, \n",
    "                             learning_rate=0.05, max_depth=3, \n",
    "                             min_child_weight=1.7817, n_estimators=2200,\n",
    "                             reg_alpha=0.4640, reg_lambda=0.8571,\n",
    "                             subsample=0.5213, silent=1,\n",
    "                             random_state =7, nthread = -1)\n",
    "model_lgb = lgb.LGBMRegressor(objective='regression',num_leaves=5,\n",
    "                              learning_rate=0.05, n_estimators=720,\n",
    "                              max_bin = 55, bagging_fraction = 0.8,\n",
    "                              bagging_freq = 5, feature_fraction = 0.2319,\n",
    "                              feature_fraction_seed=9, bagging_seed=9,\n",
    "                              min_data_in_leaf =6, min_sum_hessian_in_leaf = 11)"
   ]
  },
  {
   "cell_type": "code",
   "execution_count": 581,
   "metadata": {},
   "outputs": [],
   "source": [
    "n_folds = 5\n",
    "\n",
    "def rmsle_cv(model):\n",
    "    kf = KFold(n_folds, shuffle=True, random_state=42).get_n_splits(train_x)\n",
    "    rmse= np.sqrt(-cross_val_score(model, train_x, train_y, scoring=\"neg_mean_squared_error\", cv = kf))\n",
    "    return(rmse)"
   ]
  },
  {
   "cell_type": "code",
   "execution_count": 582,
   "metadata": {},
   "outputs": [
    {
     "output_type": "stream",
     "name": "stdout",
     "text": [
      "\nLasso score: 13.3384 (5.5679)\n\n"
     ]
    }
   ],
   "source": [
    "score = rmsle_cv(lasso)\n",
    "print(\"\\nLasso score: {:.4f} ({:.4f})\\n\".format(score.mean(), score.std()))"
   ]
  },
  {
   "cell_type": "code",
   "execution_count": 594,
   "metadata": {},
   "outputs": [
    {
     "output_type": "stream",
     "name": "stdout",
     "text": [
      "[46.4733186] 56\n"
     ]
    }
   ],
   "source": [
    "from sklearn.linear_model import Lasso\n",
    "\n",
    "#Initializing the Lasso Regressor with Normalization Factor as True\n",
    "lasso_reg = Lasso(normalize=True)\n",
    "\n",
    "#Fitting the Training data to the Lasso regressor\n",
    "\n",
    "lasso_reg.fit(train_x[1:], train_y[1:])\n",
    "\n",
    "#Predicting for X_test\n",
    "y_pred_lass =lasso_reg.predict([train_x[6]])\n",
    "\n",
    "#Printing the Score with RMLSE\n",
    "print(y_pred_lass, train_y[6])"
   ]
  },
  {
   "cell_type": "code",
   "execution_count": 565,
   "metadata": {},
   "outputs": [],
   "source": []
  },
  {
   "cell_type": "code",
   "execution_count": 559,
   "metadata": {},
   "outputs": [],
   "source": []
  },
  {
   "cell_type": "code",
   "execution_count": 536,
   "metadata": {},
   "outputs": [
    {
     "output_type": "error",
     "ename": "NameError",
     "evalue": "name 'L_layer_model' is not defined",
     "traceback": [
      "\u001b[1;31m---------------------------------------------------------------------------\u001b[0m",
      "\u001b[1;31mNameError\u001b[0m                                 Traceback (most recent call last)",
      "\u001b[1;32m<ipython-input-536-560dd56da81f>\u001b[0m in \u001b[0;36m<module>\u001b[1;34m\u001b[0m\n\u001b[0;32m      2\u001b[0m \u001b[0mny\u001b[0m \u001b[1;33m=\u001b[0m \u001b[1;36m1\u001b[0m\u001b[1;33m\u001b[0m\u001b[1;33m\u001b[0m\u001b[0m\n\u001b[0;32m      3\u001b[0m \u001b[0mlayers_dims\u001b[0m \u001b[1;33m=\u001b[0m \u001b[1;33m[\u001b[0m\u001b[0mnx\u001b[0m\u001b[1;33m,\u001b[0m \u001b[0mny\u001b[0m\u001b[1;33m]\u001b[0m\u001b[1;33m\u001b[0m\u001b[1;33m\u001b[0m\u001b[0m\n\u001b[1;32m----> 4\u001b[1;33m \u001b[0mparameters\u001b[0m \u001b[1;33m=\u001b[0m \u001b[0mL_layer_model\u001b[0m\u001b[1;33m(\u001b[0m\u001b[0mtrain_x\u001b[0m\u001b[1;33m,\u001b[0m \u001b[0mtrain_y\u001b[0m\u001b[1;33m,\u001b[0m \u001b[0mlayers_dims\u001b[0m\u001b[1;33m,\u001b[0m \u001b[0mnum_iterations\u001b[0m \u001b[1;33m=\u001b[0m \u001b[1;36m5000\u001b[0m\u001b[1;33m,\u001b[0m \u001b[0mprint_cost\u001b[0m \u001b[1;33m=\u001b[0m \u001b[1;32mTrue\u001b[0m\u001b[1;33m)\u001b[0m\u001b[1;33m\u001b[0m\u001b[1;33m\u001b[0m\u001b[0m\n\u001b[0m",
      "\u001b[1;31mNameError\u001b[0m: name 'L_layer_model' is not defined"
     ]
    }
   ],
   "source": []
  }
 ]
}