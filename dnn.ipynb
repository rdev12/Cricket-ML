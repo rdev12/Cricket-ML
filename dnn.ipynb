{
 "metadata": {
  "language_info": {
   "codemirror_mode": {
    "name": "ipython",
    "version": 3
   },
   "file_extension": ".py",
   "mimetype": "text/x-python",
   "name": "python",
   "nbconvert_exporter": "python",
   "pygments_lexer": "ipython3",
   "version": "3.9.4"
  },
  "orig_nbformat": 2,
  "kernelspec": {
   "name": "python394jvsc74a57bd04e1d2c650942a91b325b54b9274b36bdc9d492044a75ef951a73a8c46dea3f56",
   "display_name": "Python 3.9.4 64-bit"
  }
 },
 "nbformat": 4,
 "nbformat_minor": 2,
 "cells": [
  {
   "cell_type": "code",
   "execution_count": 117,
   "metadata": {},
   "outputs": [],
   "source": [
    "import numpy as np\n",
    "import pandas as pd\n",
    "import seaborn as sns\n",
    "import matplotlib.pyplot as plt\n",
    "import random\n",
    "import pickle\n",
    "import os "
   ]
  },
  {
   "cell_type": "code",
   "execution_count": 127,
   "metadata": {},
   "outputs": [
    {
     "output_type": "stream",
     "name": "stderr",
     "text": [
      "C:\\Users\\rishi\\AppData\\Local\\Programs\\Python\\Python39\\lib\\site-packages\\IPython\\core\\interactiveshell.py:3165: DtypeWarning: Columns (1) have mixed types.Specify dtype option on import or set low_memory=False.\n  has_raised = await self.run_ast_nodes(code_ast.body, cell_name,\n"
     ]
    },
    {
     "output_type": "execute_result",
     "data": {
      "text/plain": [
       "array(['2007/08', '2009', '2009/10', '2011', '2012', 2012, 2013, 2014,\n",
       "       2015, 2016, 2017, 2019, 2018, '2018', '2019', '2020/21', '2021'],\n",
       "      dtype=object)"
      ]
     },
     "metadata": {},
     "execution_count": 127
    }
   ],
   "source": [
    "all_data = pd.read_csv('.\\\\ipl_csv2\\\\all_matches.csv')\n",
    "all_data['season'].unique()\n",
    "# all_data = all_data[all_data['ball'] < 6.1]\n",
    "# all_data = all_data[all_data['innings'] <= 2]\n",
    "\n",
    "# all_data['total_runs'] = all_data['runs_off_bat'] + all_data['extras']"
   ]
  },
  {
   "cell_type": "code",
   "execution_count": 39,
   "metadata": {},
   "outputs": [],
   "source": [
    "# all_data.groupby('match_id')['total_runs'].sum()"
   ]
  },
  {
   "cell_type": "code",
   "execution_count": 92,
   "metadata": {},
   "outputs": [],
   "source": [
    "dataPaths = list(paths.list_files('.\\ipl_csv2'))\n",
    "dataPaths.pop(len(dataPaths) - 2)\n",
    "dataPaths.pop(len(dataPaths) - 1)\n",
    "\n",
    "def retrieve_past_data(team_a, team_b, num):\n",
    "    req_df = []\n",
    "    stadium_avg = {}\n",
    "    unique_bowlers = set()\n",
    "    unique_batsmen = set()\n",
    "\n",
    "    for match_file in dataPaths:\n",
    "        try:\n",
    "            df = pd.read_csv(match_file, index_col='match_id')\n",
    "            temp_a, temp_b = get_unique_players(df)\n",
    "            unique_bowlers |= (temp_a) \n",
    "            unique_batsmen |= (temp_b) \n",
    "            df = preprocess(df)\n",
    "            stadium_avg = get_stadium_avg(stadium_avg, df)\n",
    "            if (df.iloc[1]['batting_team'] == team_a or df.iloc[1]['batting_team'] == team_b) and (df.iloc[1]['bowling_team'] == team_a or df.iloc[1]['bowling_team'] == team_b):\n",
    "                if len(req_df) < num or num == -1:\n",
    "                    req_df.append(df)\n",
    "        \n",
    "        except Exception as e:\n",
    "            print(e)\n",
    "\n",
    "    return req_df, stadium_avg, unique_batsmen, unique_bowlers\n",
    "\n",
    "\n",
    "def preprocess(df):\n",
    "    pp_df = df[df['ball'] < 6.1]\n",
    "    pp_df = pp_df[pp_df['innings'] <= 2]\n",
    "\n",
    "    pp_df['total_runs'] = pp_df['runs_off_bat'] + pp_df['extras']\n",
    "\n",
    "    return pp_df\n",
    "\n",
    "#for stadium avg\n",
    "def get_stadium_avg(stad_dict, df):\n",
    "    venue = df.iloc[1]['venue']\n",
    "    runs1 = df.loc[(df['ball'] < 6.1) & (df['innings'] == 1)]['total_runs'].sum()\n",
    "    runs2 = df.loc[(df['ball'] < 6.1) & (df['innings'] == 2)]['total_runs'].sum()\n",
    "\n",
    "    \n",
    "    stad_dict.setdefault(venue,[]).append(runs1)\n",
    "    stad_dict.setdefault(venue,[]).append(runs2)\n",
    "\n",
    "    return stad_dict\n",
    "\n",
    "def get_unique_players(df):\n",
    "    bowlers = set(df['bowler'].unique().tolist())\n",
    "    batsmen_striker = set(df['striker'].unique().tolist())\n",
    "    batsmen_non_striker = set(df['non_striker'].unique().tolist())\n",
    "    \n",
    "    batsmen = batsmen_striker | (batsmen_non_striker)\n",
    "\n",
    "    return bowlers, batsmen\n"
   ]
  },
  {
   "cell_type": "code",
   "execution_count": 126,
   "metadata": {
    "tags": []
   },
   "outputs": [
    {
     "output_type": "stream",
     "name": "stdout",
     "text": [
      "0\n"
     ]
    }
   ],
   "source": [
    "#returns a list of dataframes between the two given teams\n",
    "req_df, stad_avg, u_batsmen, u_bowler = retrieve_past_data(\"Chennai Super Kings\", -1, -1)\n",
    "print(len(req_df))"
   ]
  },
  {
   "cell_type": "code",
   "execution_count": 105,
   "metadata": {},
   "outputs": [
    {
     "output_type": "stream",
     "name": "stdout",
     "text": [
      "544\n422\n583\n0\n"
     ]
    }
   ],
   "source": [
    "print(len(u_batsmen))\n",
    "print(len(u_bowler))\n",
    "print(len(u_batsmen | u_bowler))\n",
    "print(len(req_df))"
   ]
  },
  {
   "cell_type": "code",
   "execution_count": 128,
   "metadata": {},
   "outputs": [],
   "source": [
    "#format the data for visualization (leave it out for now)\n",
    "\n",
    "stad_avg['M.Chinnaswamy Stadium'].extend(stad_avg['M Chinnaswamy Stadium'])\n",
    "# stad_avg.pop('M Chinnaswamy Stadium')\n",
    "\n",
    "stad_avg['MA Chidambaram Stadium'].extend(stad_avg['MA Chidambaram Stadium, Chepauk'])\n",
    "stad_avg['MA Chidambaram Stadium'].extend(stad_avg['MA Chidambaram Stadium, Chepauk, Chennai'])\n",
    "# stad_avg.pop('MA Chidambaram Stadium, Chepauk')\n",
    "# stad_avg.pop('MA Chidambaram Stadium, Chepauk, Chennai')\n",
    "\n",
    "stad_avg['Punjab Cricket Association IS Bindra Stadium'].extend(stad_avg['Punjab Cricket Association IS Bindra Stadium, Mohali'])\n",
    "stad_avg['Punjab Cricket Association IS Bindra Stadium'].extend(stad_avg['Punjab Cricket Association Stadium, Mohali'])\n",
    "# stad_avg.pop('Punjab Cricket Association IS Bindra Stadium, Mohali')\n",
    "# stad_avg.pop('Punjab Cricket Association Stadium, Mohali')\n",
    "\n",
    "stad_avg['Rajiv Gandhi International Stadium'].extend(stad_avg['Rajiv Gandhi International Stadium, Uppal'])\n",
    "# stad_avg.pop('Rajiv Gandhi International Stadium, Uppal')\n",
    "\n",
    "stad_avg['Arun Jaitley Stadium'].extend(stad_avg['Feroz Shah Kotla'])\n",
    "# stad_avg.pop('Feroz Shah Kotla')\n",
    "\n",
    "stad_avg['Wankhede Stadium'].extend(stad_avg['Wankhede Stadium, Mumbai'])\n",
    "# stad_avg.pop('Wankhede Stadium, Mumbai')"
   ]
  },
  {
   "cell_type": "code",
   "execution_count": 129,
   "metadata": {},
   "outputs": [
    {
     "output_type": "stream",
     "name": "stdout",
     "text": [
      "{'Rajiv Gandhi International Stadium, Uppal': 45.5859375, 'Maharashtra Cricket Association Stadium': 47.45238095238095, 'Saurashtra Cricket Association Stadium': 55.3, 'Holkar Cricket Stadium': 51.72222222222222, 'M.Chinnaswamy Stadium': 45.55, 'Wankhede Stadium': 45.6554054054054, 'Eden Gardens': 46.26623376623377, 'M Chinnaswamy Stadium': 45.55, 'Feroz Shah Kotla': 47.4527027027027, 'Punjab Cricket Association IS Bindra Stadium, Mohali': 48.42857142857143, 'Green Park': 55.0, 'Punjab Cricket Association IS Bindra Stadium': 48.42857142857143, 'Rajiv Gandhi International Stadium': 45.5859375, 'MA Chidambaram Stadium': 46.40677966101695, 'Sawai Mansingh Stadium': 45.04255319148936, 'Arun Jaitley Stadium': 47.4527027027027, 'Dr. Y.S. Rajasekhara Reddy ACA-VDCA Cricket Stadium': 40.96153846153846, 'Sheikh Zayed Stadium': 43.672413793103445, 'Dubai International Cricket Stadium': 44.71212121212121, 'Sharjah Cricket Stadium': 47.02777777777778, 'MA Chidambaram Stadium, Chepauk, Chennai': 46.40677966101695, 'Wankhede Stadium, Mumbai': 45.6554054054054, 'Punjab Cricket Association Stadium, Mohali': 48.42857142857143, 'MA Chidambaram Stadium, Chepauk': 46.40677966101695, 'Dr DY Patil Sports Academy': 42.3235294117647, 'Newlands': 40.07142857142857, \"St George's Park\": 44.785714285714285, 'Kingsmead': 45.93333333333333, 'SuperSport Park': 45.25, 'Buffalo Park': 39.5, 'New Wanderers Stadium': 41.875, 'De Beers Diamond Oval': 40.0, 'OUTsurance Oval': 33.5, 'Brabourne Stadium': 51.86363636363637, 'Sardar Patel Stadium, Motera': 46.958333333333336, 'Barabati Stadium': 43.57142857142857, 'Vidarbha Cricket Association Stadium, Jamtha': 44.166666666666664, 'Himachal Pradesh Cricket Association Stadium': 40.55555555555556, 'Nehru Stadium': 39.8, 'Subrata Roy Sahara Stadium': 41.88235294117647, 'Shaheed Veer Narayan Singh International Stadium': 38.333333333333336, 'JSCA International Stadium Complex': 38.785714285714285}\n"
     ]
    }
   ],
   "source": [
    "stad_rating = {}\n",
    "for stad in stad_avg:\n",
    "    stad_rating[stad] = float(np.mean(stad_avg[stad]))\n",
    "\n",
    "stad_rating['M Chinnaswamy Stadium'] = stad_rating['M.Chinnaswamy Stadium']\n",
    "stad_rating['MA Chidambaram Stadium, Chepauk'] = stad_rating['MA Chidambaram Stadium']\n",
    "stad_rating['MA Chidambaram Stadium, Chepauk, Chennai'] = stad_rating['MA Chidambaram Stadium']\n",
    "stad_rating['Punjab Cricket Association IS Bindra Stadium, Mohali'] = stad_rating['Punjab Cricket Association IS Bindra Stadium']\n",
    "stad_rating['Punjab Cricket Association Stadium, Mohali'] = stad_rating['Punjab Cricket Association IS Bindra Stadium']\n",
    "stad_rating['Rajiv Gandhi International Stadium, Uppal'] = stad_rating['Rajiv Gandhi International Stadium']\n",
    "stad_rating['Feroz Shah Kotla'] = stad_rating['Arun Jaitley Stadium']\n",
    "stad_rating['Wankhede Stadium, Mumbai'] = stad_rating['Wankhede Stadium']\n",
    "\n",
    "print(stad_rating)"
   ]
  },
  {
   "cell_type": "code",
   "execution_count": 130,
   "metadata": {},
   "outputs": [
    {
     "output_type": "stream",
     "name": "stdout",
     "text": [
      "{'Rajiv Gandhi International Stadium, Uppal': 45.5859375, 'Maharashtra Cricket Association Stadium': 47.45238095238095, 'Saurashtra Cricket Association Stadium': 55.3, 'Holkar Cricket Stadium': 51.72222222222222, 'M.Chinnaswamy Stadium': 45.55, 'Wankhede Stadium': 45.6554054054054, 'Eden Gardens': 46.26623376623377, 'M Chinnaswamy Stadium': 45.55, 'Feroz Shah Kotla': 47.4527027027027, 'Punjab Cricket Association IS Bindra Stadium, Mohali': 48.42857142857143, 'Green Park': 55.0, 'Punjab Cricket Association IS Bindra Stadium': 48.42857142857143, 'Rajiv Gandhi International Stadium': 45.5859375, 'MA Chidambaram Stadium': 46.40677966101695, 'Sawai Mansingh Stadium': 45.04255319148936, 'Arun Jaitley Stadium': 47.4527027027027, 'Dr. Y.S. Rajasekhara Reddy ACA-VDCA Cricket Stadium': 40.96153846153846, 'Sheikh Zayed Stadium': 43.672413793103445, 'Dubai International Cricket Stadium': 44.71212121212121, 'Sharjah Cricket Stadium': 47.02777777777778, 'MA Chidambaram Stadium, Chepauk, Chennai': 46.40677966101695, 'Wankhede Stadium, Mumbai': 45.6554054054054, 'Punjab Cricket Association Stadium, Mohali': 48.42857142857143, 'MA Chidambaram Stadium, Chepauk': 46.40677966101695, 'Dr DY Patil Sports Academy': 42.3235294117647, 'Newlands': 40.07142857142857, \"St George's Park\": 44.785714285714285, 'Kingsmead': 45.93333333333333, 'SuperSport Park': 45.25, 'Buffalo Park': 39.5, 'New Wanderers Stadium': 41.875, 'De Beers Diamond Oval': 40.0, 'OUTsurance Oval': 33.5, 'Brabourne Stadium': 51.86363636363637, 'Sardar Patel Stadium, Motera': 46.958333333333336, 'Barabati Stadium': 43.57142857142857, 'Vidarbha Cricket Association Stadium, Jamtha': 44.166666666666664, 'Himachal Pradesh Cricket Association Stadium': 40.55555555555556, 'Nehru Stadium': 39.8, 'Subrata Roy Sahara Stadium': 41.88235294117647, 'Shaheed Veer Narayan Singh International Stadium': 38.333333333333336, 'JSCA International Stadium Complex': 38.785714285714285}\n"
     ]
    }
   ],
   "source": [
    "def save_obj(obj, name ):\n",
    "    with open(name + '.pkl', 'wb') as f:\n",
    "        pickle.dump(obj, f, pickle.HIGHEST_PROTOCOL)\n",
    "\n",
    "def load_obj(name):\n",
    "    with open(name + '.pkl', 'rb') as f:\n",
    "        return pickle.load(f)\n",
    "\n",
    "save_obj(stad_rating, 'stad_record')\n",
    "test = load_obj('stad_record')\n",
    "print(test)"
   ]
  },
  {
   "cell_type": "code",
   "execution_count": 112,
   "metadata": {
    "tags": []
   },
   "outputs": [
    {
     "output_type": "stream",
     "name": "stderr",
     "text": [
      "C:\\Users\\rishi\\AppData\\Local\\Programs\\Python\\Python39\\lib\\site-packages\\pandas\\core\\strings\\accessor.py:101: UserWarning: This pattern has match groups. To actually get the groups, use str.extract.\n  return func(self, *args, **kwargs)\n"
     ]
    }
   ],
   "source": [
    "batsmen_record = {}\n",
    "bowlers_record = {}\n",
    "\n",
    "for match_file in dataPaths:\n",
    "    df_all = pd.read_csv(match_file, index_col='match_id')\n",
    "    df = df_all.loc[df_all['ball'] < 6.1]\n",
    "\n",
    "    m_bowl, m_bat = get_unique_players(df) \n",
    "\n",
    "    for bat in m_bat:\n",
    "        select = df.loc[df['striker'].str.contains(str(bat))]\n",
    "        select_all = df_all.loc[df_all['striker'].str.contains(str(bat))]\n",
    "        runs_scored = select['runs_off_bat'].sum() + select['extras'].sum()\n",
    "        runs_scored_after_pp = select_all['runs_off_bat'].sum() + select_all['extras'].sum() - runs_scored\n",
    "        balls_faced = len(select.index)\n",
    "        boundaries = len(select.loc[(select['runs_off_bat'] == 6) | (select['runs_off_bat'] == 4)])\n",
    "\n",
    "        batsmen_record.setdefault(bat,[[],[],[],[]])[0].append(runs_scored)\n",
    "        batsmen_record.setdefault(bat,[[],[],[],[]])[1].append(balls_faced)\n",
    "        batsmen_record.setdefault(bat,[[],[],[],[]])[2].append(runs_scored_after_pp)\n",
    "        batsmen_record.setdefault(bat,[[],[],[],[]])[3].append(boundaries)\n",
    "\n",
    "    for bowl in m_bowl:\n",
    "        select = df.loc[df['bowler'].str.contains(str(bowl))]\n",
    "        total_runs_given = select['runs_off_bat'].sum() + select['extras'].sum()\n",
    "        extras_given = select['extras'].sum()\n",
    "        balls_bowled = len(select.index)\n",
    "        wickets_taken = len(select.loc[select['wicket_type'].notnull()])\n",
    "\n",
    "        bowlers_record.setdefault(bowl,[[],[],[],[]])[0].append(total_runs_given)\n",
    "        bowlers_record.setdefault(bowl,[[],[],[],[]])[1].append(extras_given)\n",
    "        bowlers_record.setdefault(bowl,[[],[],[],[]])[2].append(balls_bowled)\n",
    "        bowlers_record.setdefault(bowl,[[],[],[],[]])[3].append(wickets_taken)\n"
   ]
  },
  {
   "cell_type": "code",
   "execution_count": 114,
   "metadata": {
    "tags": []
   },
   "outputs": [
    {
     "output_type": "stream",
     "name": "stdout",
     "text": [
      "[[27, 28, 28, 0, 12, 27, 21, 6, 5, 1, 10, 21, 37, 27, 14, 18, 9, 28, 37, 35, 12, 4, 7, 21, 3, 25, 29, 12, 34, 9, 19, 9, 13, 23, 25, 16, 7, 6, 1, 6, 13, 11, 12, 17, 4, 5, 6, 21, 5, 15, 26, 4, 7, 10, 0, 23, 1, 2, 23, 14, 4, 10, 42, 1, 6, 10, 13, 22, 3, 19, 3, 6, 2, 12, 4, 16, 18, 10, 3, 22, 6, 24, 25, 12, 15, 11, 0, 4, 8, 5, 15, 5, 40, 11, 0, 9, 4, 1, 1, 0, 4, 1, 1, 5, 9, 0, 13, 22, 0, 5, 12, 6, 1, 27, 12, 15, 14, 19, 44, 1, 8, 12, 18, 24, 18, 29, 30, 14, 12, 21, 16, 8, 18, 20, 26, 17, 0, 11], [19, 19, 25, 1, 14, 17, 15, 6, 9, 3, 13, 16, 20, 18, 12, 15, 10, 16, 18, 22, 11, 9, 12, 10, 9, 24, 16, 11, 20, 10, 17, 8, 8, 15, 7, 7, 7, 5, 5, 9, 10, 9, 10, 9, 5, 2, 7, 12, 5, 19, 23, 8, 10, 9, 1, 22, 4, 5, 18, 19, 8, 13, 26, 5, 10, 10, 12, 20, 7, 18, 5, 14, 3, 6, 4, 16, 19, 15, 1, 14, 10, 14, 23, 15, 11, 9, 2, 6, 6, 3, 10, 6, 21, 8, 2, 13, 2, 6, 2, 1, 9, 3, 4, 8, 9, 1, 15, 21, 3, 10, 11, 9, 4, 17, 12, 16, 13, 9, 19, 2, 10, 9, 16, 16, 16, 21, 21, 17, 13, 16, 15, 8, 17, 12, 16, 14, 2, 13], [36, 0, 37, 0, 0, 28, 0, 0, 0, 58, 21, 0, 21, 66, 16, 0, 0, 11, 35, 16, 0, 0, 0, 26, 0, 0, 55, 30, 34, 0, 81, 0, 0, 1, 0, 0, 0, 23, 0, 67, 33, 34, 84, 34, 49, 3, 0, 13, 0, 23, 0, 0, 5, 30, 15, 0, 37, 0, 0, 0, 70, 25, 21, 27, 22, 6, 0, 11, 71, 17, 6, 0, 59, 10, 0, 0, 0, 35, 0, 54, 37, 0, 27, 25, 45, 55, 1, 31, 51, 92, 86, 12, 17, 38, 0, 13, 0, 0, 35, 0, 0, 9, 30, 64, 30, 77, 0, 29, 19, 47, 50, 29, 0, 7, 36, 18, 69, 0, 0, 0, 4, 0, 57, 56, 20, 63, 71, 0, 40, 88, 4, 0, 91, 55, 90, 37, 0, 44], [3, 4, 5, 0, 1, 4, 2, 1, 0, 0, 0, 4, 6, 5, 2, 3, 1, 5, 6, 5, 2, 0, 0, 5, 0, 3, 5, 1, 6, 1, 2, 2, 2, 3, 4, 3, 0, 1, 0, 1, 2, 1, 1, 3, 0, 1, 0, 4, 0, 2, 4, 0, 1, 1, 0, 4, 0, 0, 4, 2, 0, 1, 7, 0, 0, 1, 2, 4, 0, 1, 0, 1, 0, 2, 1, 2, 3, 1, 0, 4, 1, 5, 4, 2, 2, 1, 0, 0, 2, 1, 3, 1, 7, 2, 0, 1, 1, 0, 0, 0, 1, 0, 0, 0, 1, 0, 1, 3, 0, 0, 1, 0, 0, 4, 1, 2, 2, 3, 6, 0, 0, 2, 3, 3, 2, 4, 5, 1, 0, 2, 2, 1, 3, 3, 5, 3, 0, 1]]\n"
     ]
    }
   ],
   "source": [
    "# print(bowlers_record)\n",
    "print(batsmen_record['V Kohli'])"
   ]
  },
  {
   "cell_type": "code",
   "execution_count": 115,
   "metadata": {
    "tags": []
   },
   "outputs": [],
   "source": [
    "def save_obj(obj, name ):\n",
    "    with open(name + '.pkl', 'wb') as f:\n",
    "        pickle.dump(obj, f, pickle.HIGHEST_PROTOCOL)\n",
    "\n",
    "def load_obj(name):\n",
    "    with open(name + '.pkl', 'rb') as f:\n",
    "        return pickle.load(f)\n",
    "\n",
    "save_obj(batsmen_record, 'batsmen_record')\n",
    "save_obj(bowlers_record, 'bowlers_record')"
   ]
  },
  {
   "cell_type": "code",
   "execution_count": 318,
   "metadata": {},
   "outputs": [],
   "source": [
    "# stad_names = list(stad_avg.keys())\n",
    "# keys = pd.Series(stad_names, dtype=\"category\")\n",
    "# vals = [float(len(stad_avg[k])) for k in keys.cat.categories]\n",
    "\n",
    "\n",
    "# plt.figure(figsize=(20, 10))\n",
    "# sns.barplot(x=keys.cat.codes, y=vals)"
   ]
  },
  {
   "cell_type": "code",
   "execution_count": 319,
   "metadata": {},
   "outputs": [],
   "source": [
    "# dict(enumerate(keys.cat.categories))"
   ]
  },
  {
   "cell_type": "code",
   "execution_count": 100,
   "metadata": {},
   "outputs": [],
   "source": [
    "def get_venue_score(df):\n",
    "    venue = df.iloc[1]['venue']\n",
    "    #assign venue scores here\n",
    "\n",
    "    return stad_rating[venue]\n",
    "\n",
    "def get_batsmen_scores(u_bat):\n",
    "    rating = []\n",
    "\n",
    "    for batsman in u_bat:\n",
    "        try:\n",
    "            rating.append(np.mean(batsmen_record[batsman][0]))\n",
    "        except Exception as e:\n",
    "            rating.append(42)\n",
    "        \n",
    "    return rating\n",
    "        \n",
    "def get_bowlers_scores(u_bowlers):\n",
    "    rating = []\n",
    "\n",
    "    for bowler in u_bowlers:\n",
    "        try:\n",
    "            rating.append(np.mean(bowlers_record[bowler][0]))\n",
    "        except Exception as e:\n",
    "            rating.append(30)\n",
    "        \n",
    "    return rating\n",
    "\n",
    "def get_wickets(df):\n",
    "    return len(get_batsmen_scores(df)) - 2"
   ]
  },
  {
   "cell_type": "code",
   "execution_count": 101,
   "metadata": {
    "tags": []
   },
   "outputs": [
    {
     "output_type": "error",
     "ename": "IndexError",
     "evalue": "list index out of range",
     "traceback": [
      "\u001b[1;31m---------------------------------------------------------------------------\u001b[0m",
      "\u001b[1;31mIndexError\u001b[0m                                Traceback (most recent call last)",
      "\u001b[1;32m<ipython-input-101-3cc05c3a8d67>\u001b[0m in \u001b[0;36m<module>\u001b[1;34m\u001b[0m\n\u001b[0;32m      1\u001b[0m \u001b[1;31m#For cross validation, use the last of the req_df as test data and use the rest for training\u001b[0m\u001b[1;33m\u001b[0m\u001b[1;33m\u001b[0m\u001b[1;33m\u001b[0m\u001b[0m\n\u001b[1;32m----> 2\u001b[1;33m \u001b[0mtest\u001b[0m \u001b[1;33m=\u001b[0m \u001b[0mreq_df\u001b[0m\u001b[1;33m[\u001b[0m\u001b[0mlen\u001b[0m\u001b[1;33m(\u001b[0m\u001b[0mreq_df\u001b[0m\u001b[1;33m)\u001b[0m \u001b[1;33m-\u001b[0m \u001b[1;36m1\u001b[0m\u001b[1;33m]\u001b[0m\u001b[1;33m\u001b[0m\u001b[1;33m\u001b[0m\u001b[0m\n\u001b[0m\u001b[0;32m      3\u001b[0m \u001b[0mtrain_set\u001b[0m \u001b[1;33m=\u001b[0m \u001b[0mreq_df\u001b[0m\u001b[1;33m\u001b[0m\u001b[1;33m\u001b[0m\u001b[0m\n\u001b[0;32m      4\u001b[0m \u001b[1;33m\u001b[0m\u001b[0m\n\u001b[0;32m      5\u001b[0m \u001b[1;31m#test_x is the test input similar to actual input\u001b[0m\u001b[1;33m\u001b[0m\u001b[1;33m\u001b[0m\u001b[1;33m\u001b[0m\u001b[0m\n",
      "\u001b[1;31mIndexError\u001b[0m: list index out of range"
     ]
    }
   ],
   "source": [
    "#For cross validation, use the last of the req_df as test data and use the rest for training\n",
    "test = req_df[len(req_df) - 1]\n",
    "train_set = req_df\n",
    "\n",
    "#test_x is the test input similar to actual input\n",
    "test_batsmen = list(set(test.loc[(test['ball'] < 6.1) & (test['innings'] == 1)]['striker'].unique()) | set(test.loc[(test['ball'] < 6.1) & (test['innings'] == 1)]['non_striker'].unique()))\n",
    "test_bowlers = test.loc[(test['ball'] < 6.1) & (test['innings'] == 1)]['bowler'].unique()\n",
    "test_x = pd.DataFrame({'venue': [test.iloc[2]['venue']], 'innings': [1], 'batting_team': [test.iloc[2]['batting_team']], 'bowling_team':[test.iloc[2]['bowling_team']], 'batsmen': [test_batsmen], 'bowlers': [test_bowlers]})\n",
    "test_y = [df.loc[(df['ball'] < 6.1) & (df['innings'] == 1)]['total_runs'].sum()]\n",
    "\n",
    "#used to find the innings of the training match we are going to use for training\n",
    "team_a = test.iloc[1]['batting_team']\n",
    "team_b = test.iloc[1]['bowling_team']\n",
    "\n",
    "train_x = []\n",
    "train_y = []\n",
    "\n",
    "for df in train_set:\n",
    "    match_id = df.index[0]\n",
    "\n",
    "    #innings for which we are going to use for training\n",
    "    inn = df[(df['batting_team'] == team_a) & (df['bowling_team'] == team_b)]['innings'].iloc[0] \n",
    "\n",
    "    runs_x = df.loc[(df['ball'] < 6.1) & (df['innings'] == inn)]['total_runs'].sum() #runs of training innings\n",
    "    runs_target = df.loc[(df['ball'] < 6.1) & (df['innings'] == 3 - inn)]['total_runs'].sum() #runs of other innings\n",
    "    \n",
    "    #MODEL CODE GOES HERE\n",
    "\n",
    "\n",
    "    #convert the df into usable training data with required features\n",
    "    df_train_inn = df.loc[(df['ball'] < 6.1) & (df['innings'] == inn)]\n",
    "\n",
    "    # to add bowler rating: 'bowlers_rating': [numpy.array(get_bowlers_scores(df_train_inn))] \n",
    "    temp = pd.DataFrame({'venue': [get_venue_score(df)], 'batsmen_rating': [np.sum(numpy.array(get_batsmen_scores(df_train_inn)))], 'wickets': [get_wickets(df_train_inn)], 'other_runs': [runs_target], 'chasing': [0 if inn == 1 else 1]})\n",
    "\n",
    "    train_x.append(temp.values.tolist()[0])\n",
    "    train_y.append(runs_x)\n",
    "\n",
    "print(train_x)\n",
    "print(train_y)"
   ]
  },
  {
   "cell_type": "code",
   "execution_count": 62,
   "metadata": {},
   "outputs": [],
   "source": [
    "from sklearn.linear_model import ElasticNet, Lasso,  BayesianRidge, LassoLarsIC\n",
    "from sklearn.ensemble import RandomForestRegressor,  GradientBoostingRegressor\n",
    "from sklearn.kernel_ridge import KernelRidge\n",
    "from sklearn.pipeline import make_pipeline\n",
    "from sklearn.preprocessing import RobustScaler\n",
    "from sklearn.base import BaseEstimator, TransformerMixin, RegressorMixin, clone\n",
    "from sklearn.model_selection import KFold, cross_val_score, train_test_split\n",
    "from sklearn.metrics import mean_squared_error\n",
    "import xgboost as xgb\n",
    "import lightgbm as lgb"
   ]
  },
  {
   "cell_type": "code",
   "execution_count": 63,
   "metadata": {},
   "outputs": [],
   "source": [
    "lasso = make_pipeline(RobustScaler(), Lasso(alpha =0.0005, random_state=1))\n",
    "ENet = make_pipeline(RobustScaler(), ElasticNet(alpha=0.0005, l1_ratio=.9, random_state=3))\n",
    "KRR = KernelRidge(alpha=0.6, kernel='polynomial', degree=2, coef0=2.5)\n",
    "GBoost = GradientBoostingRegressor(n_estimators=3000, learning_rate=0.05,\n",
    "                                   max_depth=4, max_features='sqrt',\n",
    "                                   min_samples_leaf=15, min_samples_split=10, \n",
    "                                   loss='huber', random_state =5)\n",
    "model_xgb = xgb.XGBRegressor(colsample_bytree=0.4603, gamma=0.0468, \n",
    "                             learning_rate=0.05, max_depth=3, \n",
    "                             min_child_weight=1.7817, n_estimators=2200,\n",
    "                             reg_alpha=0.4640, reg_lambda=0.8571,\n",
    "                             subsample=0.5213, silent=1,\n",
    "                             random_state =7, nthread = -1)\n",
    "model_lgb = lgb.LGBMRegressor(objective='regression',num_leaves=5,\n",
    "                              learning_rate=0.05, n_estimators=720,\n",
    "                              max_bin = 55, bagging_fraction = 0.8,\n",
    "                              bagging_freq = 5, feature_fraction = 0.2319,\n",
    "                              feature_fraction_seed=9, bagging_seed=9,\n",
    "                              min_data_in_leaf =6, min_sum_hessian_in_leaf = 11)"
   ]
  },
  {
   "cell_type": "code",
   "execution_count": 64,
   "metadata": {},
   "outputs": [],
   "source": [
    "n_folds = 5\n",
    "\n",
    "def rmsle_cv(model):\n",
    "    kf = KFold(n_folds, shuffle=True, random_state=42).get_n_splits(train_x)\n",
    "    rmse= np.sqrt(-cross_val_score(model, train_x, train_y, scoring=\"neg_mean_squared_error\", cv = kf))\n",
    "    return(rmse)"
   ]
  },
  {
   "cell_type": "code",
   "execution_count": 582,
   "metadata": {},
   "outputs": [
    {
     "output_type": "stream",
     "name": "stdout",
     "text": [
      "\nLasso score: 13.3384 (5.5679)\n\n"
     ]
    }
   ],
   "source": [
    "score = rmsle_cv(lasso)\n",
    "print(\"\\nLasso score: {:.4f} ({:.4f})\\n\".format(score.mean(), score.std()))"
   ]
  },
  {
   "cell_type": "code",
   "execution_count": 594,
   "metadata": {},
   "outputs": [
    {
     "output_type": "stream",
     "name": "stdout",
     "text": [
      "[46.4733186] 56\n"
     ]
    }
   ],
   "source": [
    "from sklearn.linear_model import Lasso\n",
    "\n",
    "#Initializing the Lasso Regressor with Normalization Factor as True\n",
    "lasso_reg = Lasso(normalize=True)\n",
    "\n",
    "#Fitting the Training data to the Lasso regressor\n",
    "\n",
    "lasso_reg.fit(train_x[1:], train_y[1:])\n",
    "\n",
    "#Predicting for X_test\n",
    "y_pred_lass =lasso_reg.predict([train_x[6]])\n",
    "\n",
    "#Printing the Score with RMLSE\n",
    "print(y_pred_lass, train_y[6])"
   ]
  },
  {
   "cell_type": "code",
   "execution_count": 565,
   "metadata": {},
   "outputs": [],
   "source": []
  },
  {
   "cell_type": "code",
   "execution_count": 559,
   "metadata": {},
   "outputs": [],
   "source": []
  },
  {
   "cell_type": "code",
   "execution_count": 536,
   "metadata": {},
   "outputs": [
    {
     "output_type": "error",
     "ename": "NameError",
     "evalue": "name 'L_layer_model' is not defined",
     "traceback": [
      "\u001b[1;31m---------------------------------------------------------------------------\u001b[0m",
      "\u001b[1;31mNameError\u001b[0m                                 Traceback (most recent call last)",
      "\u001b[1;32m<ipython-input-536-560dd56da81f>\u001b[0m in \u001b[0;36m<module>\u001b[1;34m\u001b[0m\n\u001b[0;32m      2\u001b[0m \u001b[0mny\u001b[0m \u001b[1;33m=\u001b[0m \u001b[1;36m1\u001b[0m\u001b[1;33m\u001b[0m\u001b[1;33m\u001b[0m\u001b[0m\n\u001b[0;32m      3\u001b[0m \u001b[0mlayers_dims\u001b[0m \u001b[1;33m=\u001b[0m \u001b[1;33m[\u001b[0m\u001b[0mnx\u001b[0m\u001b[1;33m,\u001b[0m \u001b[0mny\u001b[0m\u001b[1;33m]\u001b[0m\u001b[1;33m\u001b[0m\u001b[1;33m\u001b[0m\u001b[0m\n\u001b[1;32m----> 4\u001b[1;33m \u001b[0mparameters\u001b[0m \u001b[1;33m=\u001b[0m \u001b[0mL_layer_model\u001b[0m\u001b[1;33m(\u001b[0m\u001b[0mtrain_x\u001b[0m\u001b[1;33m,\u001b[0m \u001b[0mtrain_y\u001b[0m\u001b[1;33m,\u001b[0m \u001b[0mlayers_dims\u001b[0m\u001b[1;33m,\u001b[0m \u001b[0mnum_iterations\u001b[0m \u001b[1;33m=\u001b[0m \u001b[1;36m5000\u001b[0m\u001b[1;33m,\u001b[0m \u001b[0mprint_cost\u001b[0m \u001b[1;33m=\u001b[0m \u001b[1;32mTrue\u001b[0m\u001b[1;33m)\u001b[0m\u001b[1;33m\u001b[0m\u001b[1;33m\u001b[0m\u001b[0m\n\u001b[0m",
      "\u001b[1;31mNameError\u001b[0m: name 'L_layer_model' is not defined"
     ]
    }
   ],
   "source": []
  }
 ]
}